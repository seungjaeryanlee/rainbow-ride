{
 "cells": [
  {
   "cell_type": "markdown",
   "metadata": {
    "slideshow": {
     "slide_type": "slide"
    }
   },
   "source": [
    "# Deep Q-Network (DQN)"
   ]
  },
  {
   "cell_type": "markdown",
   "metadata": {
    "slideshow": {
     "slide_type": "slide"
    }
   },
   "source": [
    "This notebook is a step-by-step implementation of the Deep Q-Learning Network (DQN) agent that uses a Neural Network (NN) to estimate the action value (Q value) of a state. Deep Q-Learning Network was invented by Google DeepMind in 2013, and it became famous for achieving superhuman performance on 29 out of 49 games on *Atari 2600* games.\n",
    "\n",
    "The links to DQN papers are at the end in the **References** section."
   ]
  },
  {
   "cell_type": "markdown",
   "metadata": {
    "slideshow": {
     "slide_type": "slide"
    }
   },
   "source": [
    "## Prerequisites"
   ]
  },
  {
   "cell_type": "markdown",
   "metadata": {
    "slideshow": {
     "slide_type": "fragment"
    }
   },
   "source": [
    "You are expected to have basic familiarity with Machine Learning, Deep Learning, and Reinforcement Learning, especially on following topics:\n",
    "\n",
    " * Neural Network\n",
    " * Temporal Difference (TD) Learning\n",
    " * Q-Learning"
   ]
  },
  {
   "cell_type": "markdown",
   "metadata": {
    "slideshow": {
     "slide_type": "fragment"
    }
   },
   "source": [
    "You are also expected to have basic familarity with PyTorch, especially on following modules:\n",
    "\n",
    " * `torch.nn`\n",
    " * `torch.optim`"
   ]
  },
  {
   "cell_type": "markdown",
   "metadata": {
    "slideshow": {
     "slide_type": "slide"
    }
   },
   "source": [
    "## Setup"
   ]
  },
  {
   "cell_type": "code",
   "execution_count": 1,
   "metadata": {
    "slideshow": {
     "slide_type": "fragment"
    }
   },
   "outputs": [],
   "source": [
    "import copy\n",
    "import random\n",
    "from collections import deque\n",
    "\n",
    "import gym\n",
    "import matplotlib.pyplot as plt\n",
    "import numpy as np\n",
    "\n",
    "import torch\n",
    "import torch.nn as nn\n",
    "import torch.nn.functional as F\n",
    "import torch.optim as optim"
   ]
  },
  {
   "cell_type": "code",
   "execution_count": 2,
   "metadata": {
    "slideshow": {
     "slide_type": "fragment"
    }
   },
   "outputs": [],
   "source": [
    "from IPython.display import clear_output\n",
    "%matplotlib inline"
   ]
  },
  {
   "cell_type": "code",
   "execution_count": 3,
   "metadata": {
    "slideshow": {
     "slide_type": "fragment"
    }
   },
   "outputs": [],
   "source": [
    "USE_CUDA = torch.cuda.is_available()"
   ]
  },
  {
   "cell_type": "markdown",
   "metadata": {
    "slideshow": {
     "slide_type": "slide"
    }
   },
   "source": [
    "## Environment: CartPole"
   ]
  },
  {
   "cell_type": "markdown",
   "metadata": {
    "slideshow": {
     "slide_type": "fragment"
    }
   },
   "source": [
    "In this notebook, we use the **CartPole** environment from [OpenAI Gym](https://gym.openai.com). In the CartPole environment, the agent has two components: a cart and a pole."
   ]
  },
  {
   "cell_type": "markdown",
   "metadata": {
    "slideshow": {
     "slide_type": "fragment"
    }
   },
   "source": [
    "At every timestep, the agent receives +1 reward unless the episode is terminated. The episode terminates if\n",
    "\n",
    " 1. the cart is too far left or right\n",
    " 2. the pole  is too far off from its upright position\n",
    " 3. 200 timesteps passed."
   ]
  },
  {
   "cell_type": "markdown",
   "metadata": {
    "slideshow": {
     "slide_type": "slide"
    }
   },
   "source": [
    "Thus, the agent's goal is to maintain balance so that the pole stays upright. To maintain balance, the agent must move the cart left or right accordingly."
   ]
  },
  {
   "cell_type": "markdown",
   "metadata": {
    "slideshow": {
     "slide_type": "fragment"
    }
   },
   "source": [
    "![Cartpole](cartpole.gif)"
   ]
  },
  {
   "cell_type": "code",
   "execution_count": 4,
   "metadata": {
    "slideshow": {
     "slide_type": "fragment"
    }
   },
   "outputs": [
    {
     "name": "stdout",
     "output_type": "stream",
     "text": [
      "\u001b[33mWARN: gym.spaces.Box autodetected dtype as <class 'numpy.float32'>. Please provide explicit dtype.\u001b[0m\n"
     ]
    }
   ],
   "source": [
    "env = gym.make('CartPole-v0')"
   ]
  },
  {
   "cell_type": "code",
   "execution_count": 5,
   "metadata": {
    "scrolled": true,
    "slideshow": {
     "slide_type": "fragment"
    }
   },
   "outputs": [
    {
     "name": "stdout",
     "output_type": "stream",
     "text": [
      "Observation Space:  Box(4,)\n",
      "Action Space:  Discrete(2)\n"
     ]
    }
   ],
   "source": [
    "print('Observation Space: ', env.observation_space)\n",
    "print('Action Space: ', env.action_space)"
   ]
  },
  {
   "cell_type": "markdown",
   "metadata": {
    "slideshow": {
     "slide_type": "slide"
    }
   },
   "source": [
    "**State Space Dimensions**: 4\n",
    " * $x$: Location of the cart\n",
    " * $x'$: Speed of the cart\n",
    " * $\\theta$: Angle of the pole\n",
    " * $\\theta'$: Angular Speed of the pole"
   ]
  },
  {
   "cell_type": "markdown",
   "metadata": {
    "slideshow": {
     "slide_type": "fragment"
    }
   },
   "source": [
    "**Action Space Size**: 2\n",
    " * Left\n",
    " * Right"
   ]
  },
  {
   "cell_type": "markdown",
   "metadata": {
    "slideshow": {
     "slide_type": "fragment"
    }
   },
   "source": [
    "**Reward**: +1 for all state"
   ]
  },
  {
   "cell_type": "markdown",
   "metadata": {
    "slideshow": {
     "slide_type": "slide"
    }
   },
   "source": [
    "## Deep Q-Network (DQN)"
   ]
  },
  {
   "cell_type": "markdown",
   "metadata": {
    "slideshow": {
     "slide_type": "fragment"
    }
   },
   "source": [
    "Deep Q-Network (DQN) is a neural network that approximates the action-value of each action given a state. For the DQN, we will use a simple neural network with few fully connected layers. The input will be the observation $s=(x, x', \\theta, \\theta')$, and the output will be the action values $Q(s, \\text{left})$ and $Q(s, \\text{right})$."
   ]
  },
  {
   "cell_type": "markdown",
   "metadata": {
    "slideshow": {
     "slide_type": "fragment"
    }
   },
   "source": [
    "In PyTorch, we create a new neural network class by inheriting `torch.nn.Module`. We define the layers in `.__init__()` and define the forward propagation step in `.forward()`. PyTorch takes care of the backpropagation step."
   ]
  },
  {
   "cell_type": "code",
   "execution_count": 8,
   "metadata": {
    "slideshow": {
     "slide_type": "slide"
    }
   },
   "outputs": [],
   "source": [
    "class DQN(nn.Module):\n",
    "    \"\"\"\n",
    "    A simple Deep Q-Network with fully connected layers.\n",
    "    \"\"\"\n",
    "    def __init__(self, input_dims, output_dims):\n",
    "        super().__init__()\n",
    "\n",
    "        self.layers = nn.Sequential(\n",
    "            nn.Linear(input_dims, 128),\n",
    "            nn.ReLU(),\n",
    "            nn.Linear(128, 128),\n",
    "            nn.ReLU(),\n",
    "            nn.Linear(128, output_dims)\n",
    "        )\n",
    "\n",
    "    def forward(self, x):\n",
    "        return self.layers(x)"
   ]
  },
  {
   "cell_type": "markdown",
   "metadata": {
    "slideshow": {
     "slide_type": "slide"
    }
   },
   "source": [
    "## Replay Buffer"
   ]
  },
  {
   "cell_type": "markdown",
   "metadata": {
    "slideshow": {
     "slide_type": "fragment"
    }
   },
   "source": [
    "In Q-Learning, the agent only looks at each experience once: after taking an action, it uses the experience $(s, a, r, s')$ once and forgets it immediately after the update. **Experience Replay** considers a different approach: the agent remembers the last $D$ experiences by saving them into a \"replay memory\". Also, instead of updating the parameters with the new experience, the agent updates its parameters by sampling a batch from the replay memory."
   ]
  },
  {
   "cell_type": "markdown",
   "metadata": {
    "slideshow": {
     "slide_type": "fragment"
    }
   },
   "source": [
    "This approach has several advantages:\n",
    "\n",
    " 1. Every experience is used multiple times, so it is more efficient in terms of data.\n",
    " 2. Experiences are strongly correlated in the Naive DQN. Randomly sampling from replay memory breaks these correlations and thus reduces the variance of the updates."
   ]
  },
  {
   "cell_type": "markdown",
   "metadata": {
    "slideshow": {
     "slide_type": "slide"
    }
   },
   "source": [
    "To implement experience replay, we create a `ReplayBuffer` class. The `ReplayBuffer` needs two functions:\n",
    "\n",
    " * `ReplayBuffer.append()` that appends the new experience\n",
    " * `ReplayBuffer.sample()` that uniformly samples a batch of experiences from the buffer\n",
    "\n",
    "We will use Python's `deque` (pronounced \"deck\", not \"dequeue\")."
   ]
  },
  {
   "cell_type": "code",
   "execution_count": 9,
   "metadata": {
    "slideshow": {
     "slide_type": "fragment"
    }
   },
   "outputs": [],
   "source": [
    "class ReplayBuffer:\n",
    "    \"\"\"\n",
    "    A buffer that stores experiences for experience replay.\n",
    "    \"\"\"\n",
    "    def __init__(self, capacity):\n",
    "        self.buffer = deque(maxlen=capacity)\n",
    "\n",
    "    def __len__(self):\n",
    "        return len(self.buffer)\n",
    "\n",
    "    def append(self, state, action, reward, next_state, done):\n",
    "        \"\"\"\n",
    "        Append given experience to the buffer.\n",
    "        \n",
    "        Parameters\n",
    "        ----------\n",
    "        state : list of float\n",
    "            The current state s given by the environment.\n",
    "        action : int\n",
    "            Action a chosen by the agent.\n",
    "        reward : float\n",
    "            Reward given by the environment for given state s and action a.\n",
    "        next_state : list of float\n",
    "            The resulting state s' after taking action a on state s.\n",
    "        done: bool\n",
    "            True if the episode has terminated.\n",
    "        \"\"\"\n",
    "        state      = np.expand_dims(state, axis=0)\n",
    "        next_state = np.expand_dims(next_state, axis=0)\n",
    "\n",
    "        self.buffer.append((state, action, reward, next_state, done))\n",
    "\n",
    "    def sample(self, batch_size):\n",
    "        \"\"\"\n",
    "        Uniformly sample a batch from the buffer.\n",
    "\n",
    "        Parameters\n",
    "        ----------\n",
    "        batch_size : int\n",
    "            The size of the batch to sample.\n",
    "\n",
    "        Returns\n",
    "        -------\n",
    "        batch : tuple\n",
    "            The batch of samples.\n",
    "        \"\"\"\n",
    "        state, action, reward, next_state, done = zip(*random.sample(self.buffer, batch_size))\n",
    "        return np.concatenate(state), action, reward, np.concatenate(next_state), done"
   ]
  },
  {
   "cell_type": "markdown",
   "metadata": {},
   "source": [
    "<div class=\"alert alert-warning\">\n",
    "Note that `deque` automatically discards the leftmost (first-in) element if it is full.\n",
    "</div>"
   ]
  },
  {
   "cell_type": "markdown",
   "metadata": {
    "slideshow": {
     "slide_type": "slide"
    }
   },
   "source": [
    "## Agent"
   ]
  },
  {
   "cell_type": "markdown",
   "metadata": {
    "slideshow": {
     "slide_type": "fragment"
    }
   },
   "source": [
    "The `DQNAgent` class is quite long, so let's look at each function separately. It has 8 functions:\n",
    "\n",
    " * `__init__`\n",
    " * `act`\n",
    " * `_compute_td_loss`\n",
    " * `_update_parameters`\n",
    " * `_update_target`\n",
    " * `_plot`\n",
    " * `train`\n",
    " * `play`"
   ]
  },
  {
   "cell_type": "markdown",
   "metadata": {
    "slideshow": {
     "slide_type": "slide"
    }
   },
   "source": [
    "### `__init__`"
   ]
  },
  {
   "cell_type": "markdown",
   "metadata": {
    "slideshow": {
     "slide_type": "fragment"
    }
   },
   "source": [
    "In the `__init__`, we save the parameters into `self`. These are the parameters:\n",
    "\n",
    " * `env`: The environment\n",
    " * `dqn`: The Deep Q-Network model\n",
    " * `optimizer`: The optimizer to use for updating weights of `dqn`\n",
    " * `epsilon_schedule`: A function that given a timestep returns `epsilon`\n",
    " * `replay_buffer`: An instance of a `ReplayBuffer`\n",
    " * `discount_factor`: The discount factor $\\gamma$\n",
    " * `target_update_rate`: Frequency of updating the target network.\n",
    " * `batch_size`: The size of batch sampled from the replay buffer\n",
    " * `replay_start_size`: The minimum size of replay buffer before starting to train"
   ]
  },
  {
   "cell_type": "code",
   "execution_count": 10,
   "metadata": {
    "slideshow": {
     "slide_type": "slide"
    }
   },
   "outputs": [],
   "source": [
    "class DQNAgent:\n",
    "    \"\"\"\n",
    "    A reinforcement learning agent that uses DQN specified by DeepMind's 2015\n",
    "    paper to estimate action values.\n",
    "    \"\"\"\n",
    "    def __init__(self, env, dqn,\n",
    "                 optimizer,\n",
    "                 epsilon_schedule,\n",
    "                 replay_buffer,\n",
    "                 discount_factor=0.99,\n",
    "                 target_update_rate=10000,\n",
    "                 batch_size=32,\n",
    "                 learn_start=32):\n",
    "        self.env = env\n",
    "        self.dqn = dqn\n",
    "        self.target_dqn = copy.deepcopy(dqn)\n",
    "        self.optimizer = optimizer\n",
    "        self.epsilon_schedule = epsilon_schedule\n",
    "        self.replay_buffer = replay_buffer\n",
    "        self.discount_factor = discount_factor\n",
    "        self.target_update_rate = target_update_rate\n",
    "        self.batch_size = batch_size\n",
    "        self.learn_start = learn_start"
   ]
  },
  {
   "cell_type": "markdown",
   "metadata": {
    "slideshow": {
     "slide_type": "slide"
    }
   },
   "source": [
    "### `act`"
   ]
  },
  {
   "cell_type": "markdown",
   "metadata": {
    "slideshow": {
     "slide_type": "fragment"
    }
   },
   "source": [
    "The `act` function returns an action selected $\\epsilon$-greedily, given a state and an epsilon $\\epsilon$."
   ]
  },
  {
   "cell_type": "code",
   "execution_count": 11,
   "metadata": {
    "slideshow": {
     "slide_type": "fragment"
    }
   },
   "outputs": [],
   "source": [
    "def act(self, state, epsilon):\n",
    "    \"\"\"\n",
    "    Return an action with respect to the epsilon-greedy policy.\n",
    "\n",
    "    Parameters\n",
    "    ----------\n",
    "    state : list of float\n",
    "        The current state given by the environment.\n",
    "    epsilon : float\n",
    "        The possibility of selecting a random action.\n",
    "\n",
    "    Returns\n",
    "    -------\n",
    "    action : int\n",
    "        The action chosen by the agent.\n",
    "    \"\"\"\n",
    "    if random.random() > epsilon:\n",
    "        state = torch.FloatTensor(state)\n",
    "        q_values = self.dqn(state)\n",
    "        action = q_values.argmax().item()\n",
    "    else:\n",
    "        action = self.env.action_space.sample()\n",
    "    return action"
   ]
  },
  {
   "cell_type": "markdown",
   "metadata": {
    "slideshow": {
     "slide_type": "slide"
    }
   },
   "source": [
    "### `_compute_loss`"
   ]
  },
  {
   "cell_type": "markdown",
   "metadata": {
    "slideshow": {
     "slide_type": "fragment"
    }
   },
   "source": [
    "To compute the loss of a batch of experience, we define `_compute_loss()` function."
   ]
  },
  {
   "cell_type": "code",
   "execution_count": 12,
   "metadata": {
    "slideshow": {
     "slide_type": "slide"
    }
   },
   "outputs": [],
   "source": [
    "def _compute_loss(self):\n",
    "    \"\"\"\n",
    "    Compute the MSE loss given a transition (s, a, r, s').\n",
    "\n",
    "    Parameters\n",
    "    ----------\n",
    "    state : list of float\n",
    "        The current state s given by the environment.\n",
    "    action : int\n",
    "        Action a chosen by the agent.\n",
    "    reward : float\n",
    "        Reward given by the environment for given state s and action a.\n",
    "    next_state : list of float\n",
    "        The resulting state s' after taking action a on state s.\n",
    "    done: bool\n",
    "        True if the episode has terminated.\n",
    "\n",
    "    Returns\n",
    "    -------\n",
    "    loss : torch.tensor\n",
    "        The MSE loss of the DQN.\n",
    "    \"\"\"\n",
    "    state, action, reward, next_state, done = self.replay_buffer.sample(self.batch_size)\n",
    "\n",
    "    state      = torch.FloatTensor(state)\n",
    "    next_state = torch.FloatTensor(next_state)\n",
    "    action     = torch.LongTensor(action)\n",
    "    reward     = torch.FloatTensor(reward)\n",
    "    done       = torch.FloatTensor(done)\n",
    "\n",
    "    q_values = self.dqn(state)\n",
    "    q_value  = q_values.gather(1, action.unsqueeze(1)).squeeze(1)\n",
    "\n",
    "    next_q_values = self.target_dqn(next_state)\n",
    "    next_q_value  = next_q_values.max(1)[0]\n",
    "    target = reward + self.discount_factor * next_q_value * (1 - done)\n",
    "\n",
    "#     loss = F.smooth_l1_loss(q_value, target.detach())\n",
    "    loss = F.mse_loss(q_value, target.detach())\n",
    "\n",
    "    return loss"
   ]
  },
  {
   "cell_type": "markdown",
   "metadata": {},
   "source": [
    "<div class='alert alert-warning'>\n",
    "To adhere to the DeepMind paper example, we should use the Huber Loss (also known as the Smooth L1 Loss), but MSE loss gives better result in CartPole where reward is always +1.\n",
    "</div>"
   ]
  },
  {
   "cell_type": "markdown",
   "metadata": {
    "slideshow": {
     "slide_type": "slide"
    }
   },
   "source": [
    "### `_update_parameters`"
   ]
  },
  {
   "cell_type": "markdown",
   "metadata": {
    "slideshow": {
     "slide_type": "fragment"
    }
   },
   "source": [
    "The `_update_parameters` function updates the parameters of the DQN with the loss calculated in `_compute_loss`."
   ]
  },
  {
   "cell_type": "markdown",
   "metadata": {},
   "source": [
    "In PyTorch, the method of updating weights is standardized.\n",
    "\n",
    " 1. `self.optimizer.zero_grad()`: Set the gradients to zero.\n",
    " 2. `loss.backward()`: Perform backpropagation to calculate the gradients.\n",
    " 3. `self.optimizer.step()`: Use the calculated gradients to update the weights."
   ]
  },
  {
   "cell_type": "code",
   "execution_count": 13,
   "metadata": {
    "slideshow": {
     "slide_type": "fragment"
    }
   },
   "outputs": [],
   "source": [
    "def _update_parameters(self, loss):\n",
    "    \"\"\"\n",
    "    Update parameters with the given loss.\n",
    "\n",
    "    Parameters\n",
    "    ----------\n",
    "    loss\n",
    "        The temporal difference loss of Q Learning.\n",
    "    \"\"\"\n",
    "    self.optimizer.zero_grad()\n",
    "    loss.backward()\n",
    "    self.optimizer.step()"
   ]
  },
  {
   "cell_type": "markdown",
   "metadata": {},
   "source": [
    "<div class='alert alert-warning'>\n",
    "When `loss.backward()` is called, the stored gradients for each parameter are updated by adding the new gradients. Therefore, the gradients should be set to zero every time before calculating the gradients.\n",
    "</div>"
   ]
  },
  {
   "cell_type": "markdown",
   "metadata": {},
   "source": [
    "### `_update_target`"
   ]
  },
  {
   "cell_type": "markdown",
   "metadata": {},
   "source": [
    "**Target Network** $\\hat{Q}$ is a method of using a separate network to generate the target $r + \\gamma \\max_{a'} \\hat{Q}(s', a')$. The target network $\\hat{Q}$ is updated periodically by cloning the parameters of the original network $Q$."
   ]
  },
  {
   "cell_type": "markdown",
   "metadata": {},
   "source": [
    "In PyTorch, you can retrieve the weights of a model with `.state_dict()` and assign weights to a model with `.load_state_dict()`."
   ]
  },
  {
   "cell_type": "code",
   "execution_count": 14,
   "metadata": {},
   "outputs": [],
   "source": [
    "def _update_target(self):\n",
    "    \"\"\"\n",
    "    Update the target network's weights with that of the update network.\n",
    "    \"\"\"\n",
    "    self.target_dqn.load_state_dict(self.dqn.state_dict())"
   ]
  },
  {
   "cell_type": "markdown",
   "metadata": {
    "slideshow": {
     "slide_type": "slide"
    }
   },
   "source": [
    "### `_plot`"
   ]
  },
  {
   "cell_type": "markdown",
   "metadata": {
    "slideshow": {
     "slide_type": "fragment"
    }
   },
   "source": [
    "The `_plot` function simply plots the episode reward, losses, and epsilons using `matplotlib`."
   ]
  },
  {
   "cell_type": "code",
   "execution_count": 15,
   "metadata": {
    "slideshow": {
     "slide_type": "fragment"
    }
   },
   "outputs": [],
   "source": [
    "def _plot(self, rewards, losses, epsilons):\n",
    "    \"\"\"\n",
    "    Plot the total episode rewards and losses per timestep.\n",
    "\n",
    "    Parameters\n",
    "    ----------\n",
    "    rewards : list of float\n",
    "        List of total rewards for each episode.\n",
    "    losses : list of float\n",
    "        List of losses for each timestep.\n",
    "    epsilons : list of float\n",
    "        List of epsilons for each timestep.\n",
    "    \"\"\"\n",
    "    clear_output(True)\n",
    "    plt.figure(figsize=(20,5))\n",
    "    plt.subplot(131)\n",
    "    plt.title('Episodic Reward')\n",
    "    plt.plot(rewards)\n",
    "    plt.subplot(132)\n",
    "    plt.title('TD Loss')\n",
    "    plt.plot(losses)\n",
    "    plt.subplot(133)\n",
    "    plt.title('Epsilon')\n",
    "    plt.plot(epsilons)\n",
    "    plt.tight_layout()\n",
    "    plt.show()"
   ]
  },
  {
   "cell_type": "markdown",
   "metadata": {
    "slideshow": {
     "slide_type": "slide"
    }
   },
   "source": [
    "### `train`"
   ]
  },
  {
   "cell_type": "markdown",
   "metadata": {
    "slideshow": {
     "slide_type": "fragment"
    }
   },
   "source": [
    "The `train` function is function that uses all the functions defined above. At every timestep, the agent:\n",
    "\n",
    " 1. Choose an action with the DQN\n",
    " 2. Receive (state, reward, done, info) from the environment and adds it to the replay buffer\n",
    " 3. Sample a batch from the replay buffer\n",
    " 4. Calculate the loss from the batch\n",
    " 5. Update the parameters with the batch\n",
    " 6. Update the target DQN if needed\n",
    " 7. If the episode is finished, reset environment."
   ]
  },
  {
   "cell_type": "code",
   "execution_count": 16,
   "metadata": {
    "slideshow": {
     "slide_type": "slide"
    }
   },
   "outputs": [],
   "source": [
    "def train(self, n_steps=5000):\n",
    "    \"\"\"\n",
    "    Train the agent for specified number of steps.\n",
    "\n",
    "    Parameters\n",
    "    ----------\n",
    "    n_steps : int\n",
    "        Number of timesteps to train the agent for.\n",
    "    \"\"\"\n",
    "    all_rewards = []\n",
    "    losses = []\n",
    "    epsilons = []\n",
    "    episode_reward = 0\n",
    "\n",
    "    state = self.env.reset()\n",
    "    for frame_idx in range(1, n_steps + 1):\n",
    "\n",
    "        epsilon = self.epsilon_schedule(frame_idx)\n",
    "        epsilons.append(epsilon)\n",
    "        action = self.act(state, epsilon)\n",
    "        next_state, reward, done, _ = self.env.step(action)\n",
    "        episode_reward += reward\n",
    "        self.replay_buffer.append(state, action, reward, next_state, done)\n",
    "\n",
    "        if len(self.replay_buffer) >= self.learn_start:\n",
    "            loss = self._compute_loss()\n",
    "            self._update_parameters(loss)\n",
    "            losses.append(loss.item())\n",
    "\n",
    "        if done:\n",
    "            state = self.env.reset()\n",
    "            all_rewards.append(episode_reward)\n",
    "            episode_reward = 0\n",
    "\n",
    "        if frame_idx % self.target_update_rate == 0:\n",
    "            self._update_target()\n",
    "\n",
    "        state = next_state\n",
    "\n",
    "        if frame_idx % 200 == 0:\n",
    "            self._plot(all_rewards, losses, epsilons)"
   ]
  },
  {
   "cell_type": "markdown",
   "metadata": {
    "slideshow": {
     "slide_type": "slide"
    }
   },
   "source": [
    "### `play`"
   ]
  },
  {
   "cell_type": "markdown",
   "metadata": {
    "slideshow": {
     "slide_type": "fragment"
    }
   },
   "source": [
    "In the `play` function, we run the episode once with $\\epsilon = 0$ (i.e. greedy)."
   ]
  },
  {
   "cell_type": "code",
   "execution_count": 17,
   "metadata": {
    "slideshow": {
     "slide_type": "fragment"
    }
   },
   "outputs": [],
   "source": [
    "def play(self, render=True):\n",
    "    \"\"\"\n",
    "    Play an episode and return the total reward for the episode.\n",
    "\n",
    "    Parameters\n",
    "    ----------\n",
    "    render : bool\n",
    "        If true, render the environment.\n",
    "    \"\"\"\n",
    "    done = False\n",
    "    state = self.env.reset()\n",
    "    total_reward = 0\n",
    "    while not done:\n",
    "        action = self.act(state, epsilon=0)\n",
    "        next_state, reward, done, _ = self.env.step(action)\n",
    "        if render:\n",
    "            self.env.render()\n",
    "        total_reward += reward\n",
    "        state = next_state\n",
    "\n",
    "    return total_reward"
   ]
  },
  {
   "cell_type": "markdown",
   "metadata": {
    "slideshow": {
     "slide_type": "slide"
    }
   },
   "source": [
    "Let's add all these functions the `DQNAgent` to see how our implementation performs in `CartPole`."
   ]
  },
  {
   "cell_type": "code",
   "execution_count": 18,
   "metadata": {
    "slideshow": {
     "slide_type": "fragment"
    }
   },
   "outputs": [],
   "source": [
    "DQNAgent.act = act\n",
    "DQNAgent._compute_loss = _compute_loss\n",
    "DQNAgent._update_parameters = _update_parameters\n",
    "DQNAgent._update_target = _update_target\n",
    "DQNAgent._plot = _plot\n",
    "DQNAgent.train = train\n",
    "DQNAgent.play = play"
   ]
  },
  {
   "cell_type": "markdown",
   "metadata": {
    "slideshow": {
     "slide_type": "slide"
    }
   },
   "source": [
    "## Epsilon Decay"
   ]
  },
  {
   "cell_type": "markdown",
   "metadata": {},
   "source": [
    "We need to create a function `epsilon_schedule` that returns an epsilon value for every timestep. We implement ` get_epsilon_schedule` an `epsilon_schedule` function that linearly anneals $\\epsilon$ for $N$ steps."
   ]
  },
  {
   "cell_type": "markdown",
   "metadata": {},
   "source": [
    "$$ \\epsilon_i = \\epsilon_\\text{End} + \\max \\left( 0, \\frac{(\\epsilon_\\text{Start} - \\epsilon_\\text{End}) (N - \\max(0, i - C))}{N} \\right) $$"
   ]
  },
  {
   "cell_type": "markdown",
   "metadata": {},
   "source": [
    "where $C$ is the step that the agent starts training."
   ]
  },
  {
   "cell_type": "code",
   "execution_count": 19,
   "metadata": {
    "slideshow": {
     "slide_type": "fragment"
    }
   },
   "outputs": [],
   "source": [
    "def get_epsilon_schedule(start, end, endt, learn_start):\n",
    "    \"\"\"\n",
    "    Generate a decreasing function that returns epsilon for each timestep.\n",
    "\n",
    "    Parameters\n",
    "    ----------\n",
    "    start : float\n",
    "        The epsilon value for step 0.\n",
    "    end : float\n",
    "        The epsilon value for step n.\n",
    "    endt : int\n",
    "        The number of timesteps to linearly anneal the epsilon.\n",
    "    learn_start : int\n",
    "        The step that the learning begins. Should be equal to DQNAgent's\n",
    "        learn_start.\n",
    "\n",
    "    Returns\n",
    "    -------\n",
    "    object\n",
    "        A function that returns epsilon for each timestep.\n",
    "    \"\"\"\n",
    "    return lambda step: end + max(0, (start - end) *\n",
    "                                  (endt - max(0, step - learn_start)) / endt)"
   ]
  },
  {
   "cell_type": "markdown",
   "metadata": {},
   "source": [
    "Let's plot the epsilon schedule for a sanity check."
   ]
  },
  {
   "cell_type": "code",
   "execution_count": 20,
   "metadata": {},
   "outputs": [
    {
     "data": {
      "text/plain": [
       "[<matplotlib.lines.Line2D at 0x7f226e9e2f28>]"
      ]
     },
     "execution_count": 20,
     "metadata": {},
     "output_type": "execute_result"
    },
    {
     "data": {
      "image/png": "[encoded data removed]",
      "text/plain": [
       "<Figure size 432x288 with 1 Axes>"
      ]
     },
     "metadata": {},
     "output_type": "display_data"
    }
   ],
   "source": [
    "epsilon_schedule = get_epsilon_schedule(start=1.0, end=0.01, endt=1000, \n",
    "                                        learn_start=32)\n",
    "steps = np.arange(5000)\n",
    "epsilons = [epsilon_schedule(step) for step in steps]\n",
    "plt.title('Epsilon values')\n",
    "plt.xlabel('Timestep')\n",
    "plt.ylabel('$\\\\epsilon$')\n",
    "plt.plot(steps, epsilons)"
   ]
  },
  {
   "cell_type": "markdown",
   "metadata": {},
   "source": [
    "## Result"
   ]
  },
  {
   "cell_type": "markdown",
   "metadata": {},
   "source": [
    "For the hyperparameters, we mostly used the hyperparameters provided by the 2015 DQN paper, but used smaller values for hyperparameters related to total number of steps. For reference, below are the original hyperparameters:"
   ]
  },
  {
   "cell_type": "markdown",
   "metadata": {},
   "source": [
    "![Hyperparameters for Atari 2600](hyperparameters.png)"
   ]
  },
  {
   "cell_type": "code",
   "execution_count": 21,
   "metadata": {
    "slideshow": {
     "slide_type": "fragment"
    }
   },
   "outputs": [],
   "source": [
    "dqn = DQN(env.observation_space.shape[0], env.action_space.n)\n",
    "if USE_CUDA:\n",
    "    dqn = dqn.cuda()\n",
    "optimizer        = optim.RMSprop(dqn.parameters(), \n",
    "                                   lr=0.00025,\n",
    "                                   momentum=0.95,\n",
    "                                   alpha=0.95,\n",
    "                                   eps=0.01)\n",
    "epsilon_schedule = get_epsilon_schedule(start=1.0,\n",
    "                                          end=0.01,\n",
    "                                          endt=1000,\n",
    "                                          learn_start=50)\n",
    "replay_buffer    = ReplayBuffer(capacity=1000)\n",
    "agent = DQNAgent(env, dqn, optimizer, epsilon_schedule, replay_buffer,\n",
    "                 discount_factor=0.99,\n",
    "                 target_update_rate=10,\n",
    "                 batch_size=32,\n",
    "                 learn_start=50)"
   ]
  },
  {
   "cell_type": "code",
   "execution_count": 22,
   "metadata": {
    "slideshow": {
     "slide_type": "slide"
    }
   },
   "outputs": [
    {
     "data": {
      "image/png": "[encoded data removed]",
      "text/plain": [
       "<Figure size 1440x360 with 3 Axes>"
      ]
     },
     "metadata": {},
     "output_type": "display_data"
    }
   ],
   "source": [
    "agent.train(5000)"
   ]
  },
  {
   "cell_type": "code",
   "execution_count": 23,
   "metadata": {
    "slideshow": {
     "slide_type": "fragment"
    }
   },
   "outputs": [
    {
     "name": "stdout",
     "output_type": "stream",
     "text": [
      "Total Reward: 200.0\n"
     ]
    }
   ],
   "source": [
    "total_reward = agent.play()\n",
    "print('Total Reward: {}'.format(total_reward))"
   ]
  },
  {
   "cell_type": "code",
   "execution_count": 24,
   "metadata": {
    "slideshow": {
     "slide_type": "fragment"
    }
   },
   "outputs": [],
   "source": [
    "agent.env.close()"
   ]
  },
  {
   "cell_type": "markdown",
   "metadata": {},
   "source": [
    "<div class='alert alert-warning'>\n",
    "You can close the rendered environment with `agent.env.close()`. However, this also destroys the environment. Check [this GitHub issue](https://github.com/openai/gym/issues/878) for details.\n",
    "</div>"
   ]
  },
  {
   "cell_type": "markdown",
   "metadata": {},
   "source": [
    "## References"
   ]
  },
  {
   "cell_type": "markdown",
   "metadata": {},
   "source": [
    "### Papers"
   ]
  },
  {
   "cell_type": "markdown",
   "metadata": {},
   "source": [
    " * [Playing Atari with Deep Reinforcement Learning (2013)](https://arxiv.org/pdf/1312.5602.pdf)\n",
    " * [Human-level control through deep reinforcement learning (2015)](https://web.stanford.edu/class/psych209/Readings/MnihEtAlHassibis15NatureControlDeepRL.pdf)"
   ]
  },
  {
   "cell_type": "markdown",
   "metadata": {},
   "source": [
    "### Posts"
   ]
  },
  {
   "cell_type": "markdown",
   "metadata": {},
   "source": [
    " * [Let's Build an Atari AI](https://becominghuman.ai/lets-build-an-atari-ai-part-1-dqn-df57e8ff3b26)"
   ]
  },
  {
   "cell_type": "markdown",
   "metadata": {},
   "source": [
    "### Code"
   ]
  },
  {
   "cell_type": "markdown",
   "metadata": {},
   "source": [
    " * [DeepMind's DQN with Lua](https://github.com/deepmind/dqn)\n",
    " * [higgsfield's RL Adventure with PyTorch](https://github.com/higgsfield/RL-Adventure)"
   ]
  }
 ],
 "metadata": {
  "kernelspec": {
   "display_name": "Python 3",
   "language": "python",
   "name": "python3"
  },
  "language_info": {
   "codemirror_mode": {
    "name": "ipython",
    "version": 3
   },
   "file_extension": ".py",
   "mimetype": "text/x-python",
   "name": "python",
   "nbconvert_exporter": "python",
   "pygments_lexer": "ipython3",
   "version": "3.6.5"
  },
  "varInspector": {
   "cols": {
    "lenName": 16,
    "lenType": 16,
    "lenVar": 40
   },
   "kernels_config": {
    "python": {
     "delete_cmd_postfix": "",
     "delete_cmd_prefix": "del ",
     "library": "var_list.py",
     "varRefreshCmd": "print(var_dic_list())"
    },
    "r": {
     "delete_cmd_postfix": ") ",
     "delete_cmd_prefix": "rm(",
     "library": "var_list.r",
     "varRefreshCmd": "cat(var_dic_list()) "
    }
   },
   "types_to_exclude": [
    "module",
    "function",
    "builtin_function_or_method",
    "instance",
    "_Feature"
   ],
   "window_display": false
  }
 },
 "nbformat": 4,
 "nbformat_minor": 2
}
