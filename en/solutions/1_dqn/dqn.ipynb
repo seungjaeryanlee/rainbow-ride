{
 "cells": [
  {
   "cell_type": "markdown",
   "metadata": {
    "slideshow": {
     "slide_type": "slide"
    }
   },
   "source": [
    "# Deep Q-Network (DQN)"
   ]
  },
  {
   "cell_type": "markdown",
   "metadata": {
    "slideshow": {
     "slide_type": "slide"
    }
   },
   "source": [
    "In this exercise, you will implement a Deep Q-Learning Network (DQN) agent that uses a Neural Network (NN) to estimate the action value (Q value) of a state. Deep Q-Learning Network was invented by Google DeepMind in 2013, and it became famous for achieving superhuman performance on 29 out of 49 games on *Atari 2600* games.\n",
    "\n",
    "The links to DQN papers are at the end in the **References** section."
   ]
  },
  {
   "cell_type": "markdown",
   "metadata": {
    "slideshow": {
     "slide_type": "slide"
    }
   },
   "source": [
    "## Prerequisites"
   ]
  },
  {
   "cell_type": "markdown",
   "metadata": {
    "slideshow": {
     "slide_type": "fragment"
    }
   },
   "source": [
    "You are expected to have basic familiarity with Machine Learning, Deep Learning, and Reinforcement Learning, especially on following topics:\n",
    "\n",
    " * Neural Network\n",
    " * Q-Learning\n",
    " * (Optional) Convolutional Neural Network"
   ]
  },
  {
   "cell_type": "markdown",
   "metadata": {
    "slideshow": {
     "slide_type": "fragment"
    }
   },
   "source": [
    "You are also expected to have basic familarity with PyTorch, especially on following modules:\n",
    "\n",
    " * `torch.nn`\n",
    " * `torch.optim`"
   ]
  },
  {
   "cell_type": "markdown",
   "metadata": {
    "slideshow": {
     "slide_type": "slide"
    }
   },
   "source": [
    "## Setup"
   ]
  },
  {
   "cell_type": "code",
   "execution_count": 1,
   "metadata": {
    "slideshow": {
     "slide_type": "fragment"
    }
   },
   "outputs": [],
   "source": [
    "import copy\n",
    "import random\n",
    "from collections import deque\n",
    "\n",
    "import gym\n",
    "import matplotlib.pyplot as plt\n",
    "import numpy as np\n",
    "\n",
    "import torch\n",
    "import torch.nn as nn\n",
    "import torch.optim as optim"
   ]
  },
  {
   "cell_type": "code",
   "execution_count": 2,
   "metadata": {
    "slideshow": {
     "slide_type": "fragment"
    }
   },
   "outputs": [],
   "source": [
    "from IPython.display import clear_output\n",
    "%matplotlib inline"
   ]
  },
  {
   "cell_type": "code",
   "execution_count": 3,
   "metadata": {
    "slideshow": {
     "slide_type": "fragment"
    }
   },
   "outputs": [],
   "source": [
    "USE_CUDA = torch.cuda.is_available()"
   ]
  },
  {
   "cell_type": "markdown",
   "metadata": {
    "slideshow": {
     "slide_type": "slide"
    }
   },
   "source": [
    "## Environment"
   ]
  },
  {
   "cell_type": "markdown",
   "metadata": {
    "slideshow": {
     "slide_type": "slide"
    }
   },
   "source": [
    "### CartPole"
   ]
  },
  {
   "cell_type": "markdown",
   "metadata": {
    "slideshow": {
     "slide_type": "fragment"
    }
   },
   "source": [
    "In this notebook, we use the **CartPole** environment from [OpenAI Gym](https://gym.openai.com). In the CartPole environment, the agent has two components: a cart and a pole."
   ]
  },
  {
   "cell_type": "markdown",
   "metadata": {
    "slideshow": {
     "slide_type": "fragment"
    }
   },
   "source": [
    "At every timestep, the agent receives +1 reward unless the episode is terminated. The episode terminates if\n",
    "\n",
    " 1. the cart is too far left or right\n",
    " 2. the pole  is too far off from its upright position\n",
    " 3. 200 timesteps passed."
   ]
  },
  {
   "cell_type": "markdown",
   "metadata": {
    "slideshow": {
     "slide_type": "slide"
    }
   },
   "source": [
    "Thus, the agent's goal is to maintain balance so that the pole stays upright. To maintain balance, the agent must move the cart left or right accordingly."
   ]
  },
  {
   "cell_type": "markdown",
   "metadata": {
    "slideshow": {
     "slide_type": "fragment"
    }
   },
   "source": [
    "![Cartpole](cartpole.gif)"
   ]
  },
  {
   "cell_type": "code",
   "execution_count": 4,
   "metadata": {
    "slideshow": {
     "slide_type": "fragment"
    }
   },
   "outputs": [
    {
     "name": "stdout",
     "output_type": "stream",
     "text": [
      "\u001b[33mWARN: gym.spaces.Box autodetected dtype as <class 'numpy.float32'>. Please provide explicit dtype.\u001b[0m\n"
     ]
    }
   ],
   "source": [
    "env_id = 'CartPole-v0'\n",
    "env = gym.make(env_id)"
   ]
  },
  {
   "cell_type": "code",
   "execution_count": 5,
   "metadata": {
    "slideshow": {
     "slide_type": "fragment"
    }
   },
   "outputs": [
    {
     "name": "stdout",
     "output_type": "stream",
     "text": [
      "Observation Space:  Box(4,)\n",
      "Action Space:  Discrete(2)\n"
     ]
    }
   ],
   "source": [
    "print('Observation Space: ', env.observation_space)\n",
    "print('Action Space: ', env.action_space)"
   ]
  },
  {
   "cell_type": "markdown",
   "metadata": {
    "slideshow": {
     "slide_type": "slide"
    }
   },
   "source": [
    "**State Space Dimensions**: 4\n",
    " * $x$: Location of the cart\n",
    " * $x'$: Speed of the cart\n",
    " * $\\theta$: Angle of the pole\n",
    " * $\\theta'$: Angular Speed of the pole"
   ]
  },
  {
   "cell_type": "markdown",
   "metadata": {
    "slideshow": {
     "slide_type": "fragment"
    }
   },
   "source": [
    "**Action Space Size**: 2\n",
    " * Left\n",
    " * Right"
   ]
  },
  {
   "cell_type": "markdown",
   "metadata": {
    "slideshow": {
     "slide_type": "fragment"
    }
   },
   "source": [
    "**Reward**: +1 for all state"
   ]
  },
  {
   "cell_type": "markdown",
   "metadata": {
    "slideshow": {
     "slide_type": "slide"
    }
   },
   "source": [
    "### Wrapper"
   ]
  },
  {
   "cell_type": "markdown",
   "metadata": {
    "slideshow": {
     "slide_type": "fragment"
    }
   },
   "source": [
    "To follow DeepMind's paper, we implement a **Environment Wrapper**. An environment wrapper changes the environment's behavior. DeepMind clipped the reward to an interval [-1, 1]."
   ]
  },
  {
   "cell_type": "code",
   "execution_count": 6,
   "metadata": {
    "slideshow": {
     "slide_type": "fragment"
    }
   },
   "outputs": [],
   "source": [
    "class RewardClipWrapper(gym.RewardWrapper):\n",
    "    def __init__(self, env):\n",
    "        gym.RewardWrapper.__init__(self, env)\n",
    "    def reward(self, r):\n",
    "        return np.clip(r, -1, 1)"
   ]
  },
  {
   "cell_type": "code",
   "execution_count": 7,
   "metadata": {
    "slideshow": {
     "slide_type": "fragment"
    }
   },
   "outputs": [],
   "source": [
    "env = RewardClipWrapper(env)"
   ]
  },
  {
   "cell_type": "markdown",
   "metadata": {
    "slideshow": {
     "slide_type": "fragment"
    }
   },
   "source": [
    "<div class='alert alert-warning'>\n",
    "In `CartPole`, reward is always 1, so the wrapper actually does nothing.\n",
    "</div>"
   ]
  },
  {
   "cell_type": "markdown",
   "metadata": {
    "slideshow": {
     "slide_type": "slide"
    }
   },
   "source": [
    "## Deep Q-Network (DQN)"
   ]
  },
  {
   "cell_type": "markdown",
   "metadata": {
    "slideshow": {
     "slide_type": "fragment"
    }
   },
   "source": [
    "Let's implement a neural network with PyTorch. We will use a simple neural network with few layers. The input will be the observation $s=(x, x', \\theta, \\theta')$, and the output will be the action values $Q(s, \\text{left})$ and $Q(s, \\text{right})$."
   ]
  },
  {
   "cell_type": "markdown",
   "metadata": {
    "slideshow": {
     "slide_type": "fragment"
    }
   },
   "source": [
    "We create a `DQN` class that inherits `torch.nn.Module`. By convention, define the layers in `DQN.__init__()` and define the forward propagation step in `DQN.forward()`."
   ]
  },
  {
   "cell_type": "code",
   "execution_count": 8,
   "metadata": {
    "slideshow": {
     "slide_type": "slide"
    }
   },
   "outputs": [],
   "source": [
    "class DQN(nn.Module):\n",
    "    def __init__(self, input_dims, output_dims):\n",
    "        super().__init__()\n",
    "\n",
    "        self.layers = nn.Sequential(\n",
    "            nn.Linear(input_dims, 128),\n",
    "            nn.ReLU(),\n",
    "            nn.Linear(128, 128),\n",
    "            nn.ReLU(),\n",
    "            nn.Linear(128, output_dims)\n",
    "        )\n",
    "\n",
    "    def forward(self, x):\n",
    "        return self.layers(x)"
   ]
  },
  {
   "cell_type": "markdown",
   "metadata": {
    "slideshow": {
     "slide_type": "slide"
    }
   },
   "source": [
    "## Replay Buffer"
   ]
  },
  {
   "cell_type": "markdown",
   "metadata": {
    "slideshow": {
     "slide_type": "fragment"
    }
   },
   "source": [
    "In Q-Learning, the agent only looks at each experience once: after taking an action, it uses the experience $(s, a, r, s')$ once and forgets it immediately after the update. **Experience Replay** considers a different approach: the agent remembers the last $D$ experiences by saving them into a \"replay memory\". Also, instead of updating the parameters with the new experience, the agent updates its parameters by sampling a batch from the replay memory."
   ]
  },
  {
   "cell_type": "markdown",
   "metadata": {
    "slideshow": {
     "slide_type": "fragment"
    }
   },
   "source": [
    "This approach has several advantages:\n",
    "\n",
    " 1. Every experience is used multiple times, so it is more efficient in terms of data.\n",
    " 2. Experiences are strongly correlated in the Naive DQN. Randomly sampling from replay memory breaks these correlations and thus reduces the variance of the updates."
   ]
  },
  {
   "cell_type": "markdown",
   "metadata": {
    "slideshow": {
     "slide_type": "slide"
    }
   },
   "source": [
    "To implement experience replay, we create a `ReplayBuffer` class. The `ReplayBuffer` needs two functions:\n",
    "\n",
    " * `ReplayBuffer.append()` that appends the new experience\n",
    " * `ReplayBuffer.sample()` that uniformly samples a batch of experiences from the buffer\n",
    "\n",
    "We will use Python's `deque` (pronounced \"deck\", not \"dequeue\")."
   ]
  },
  {
   "cell_type": "code",
   "execution_count": 9,
   "metadata": {
    "slideshow": {
     "slide_type": "fragment"
    }
   },
   "outputs": [],
   "source": [
    "class ReplayBuffer:\n",
    "    def __init__(self, capacity):\n",
    "        self.buffer = deque(maxlen=capacity)\n",
    "    \n",
    "    def append(self, state, action, reward, next_state, done):\n",
    "        state      = np.expand_dims(state, axis=0)\n",
    "        next_state = np.expand_dims(next_state, axis=0)\n",
    "            \n",
    "        self.buffer.append((state, action, reward, next_state, done))\n",
    "    \n",
    "    def sample(self, batch_size):\n",
    "        state, action, reward, next_state, done = zip(*random.sample(self.buffer, batch_size))\n",
    "        return np.concatenate(state), action, reward, np.concatenate(next_state), done\n",
    "    \n",
    "    def __len__(self):\n",
    "        return len(self.buffer)"
   ]
  },
  {
   "cell_type": "markdown",
   "metadata": {},
   "source": [
    "<div class=\"alert alert-warning\">\n",
    "Note that `deque` automatically discards the leftmost (first-in) element if it is full.\n",
    "</div>"
   ]
  },
  {
   "cell_type": "markdown",
   "metadata": {},
   "source": [
    "## Target Network"
   ]
  },
  {
   "cell_type": "markdown",
   "metadata": {},
   "source": [
    "**Target Network** $\\hat{Q}$ is a method of using a separate network to generate the target $r + \\gamma \\max_{a'} \\hat{Q}(s', a')$. The target network $\\hat{Q}$ is updated periodically by cloning the parameters of the original network $Q$."
   ]
  },
  {
   "cell_type": "markdown",
   "metadata": {},
   "source": [
    "In PyTorch, you can retrieve the weights of a model with `.state_dict()`, and you can assign weights to a model with `.load_state_dict()`."
   ]
  },
  {
   "cell_type": "markdown",
   "metadata": {},
   "source": [
    "```\n",
    "target_dqn.load_state_dict(dqn.state_dict())\n",
    "```"
   ]
  },
  {
   "cell_type": "markdown",
   "metadata": {
    "slideshow": {
     "slide_type": "slide"
    }
   },
   "source": [
    "## Agent"
   ]
  },
  {
   "cell_type": "markdown",
   "metadata": {
    "slideshow": {
     "slide_type": "fragment"
    }
   },
   "source": [
    "The `DQNAgent` class is quite long, so let's look at each function separately. It has 7 functions:\n",
    "\n",
    " * `__init__`\n",
    " * `act`\n",
    " * `_compute_td_loss`\n",
    " * `_update_parameters`\n",
    " * `_plot`\n",
    " * `train`\n",
    " * `play`"
   ]
  },
  {
   "cell_type": "markdown",
   "metadata": {
    "slideshow": {
     "slide_type": "slide"
    }
   },
   "source": [
    "### `__init__`"
   ]
  },
  {
   "cell_type": "markdown",
   "metadata": {
    "slideshow": {
     "slide_type": "fragment"
    }
   },
   "source": [
    "In the `__init__`, we save the parameters into `self`. These are the parameters:\n",
    "\n",
    " * `env`: The environment\n",
    " * `dqn`: The Deep Q-Network model\n",
    " * `Optimizer`: The optimizer to use - one of `torch.nn.optim` modules\n",
    " * `epsilon_schedule`: A function that given a timestep returns `epsilon`\n",
    " * `replay_buffer`: An instance of a `ReplayBuffer`\n",
    " * `discount_factor`: The discount factor $\\gamma$\n",
    " * `target_update_rate`: Frequency of updating the target network.\n",
    " * `batch_size`: The size of batch sampled from the replay buffer\n",
    " * `min_buffer_size`: The minimum size of replay buffer before starting to train"
   ]
  },
  {
   "cell_type": "code",
   "execution_count": 10,
   "metadata": {
    "slideshow": {
     "slide_type": "slide"
    }
   },
   "outputs": [],
   "source": [
    "class DQNAgent:\n",
    "    def __init__(self, env, dqn, Optimizer,\n",
    "                 epsilon_schedule,\n",
    "                 replay_buffer,\n",
    "                 learning_rate=1e-3,\n",
    "                 discount_factor=0.99,\n",
    "                 target_update_rate=32,\n",
    "                 batch_size=32,\n",
    "                 min_buffer_size=32):\n",
    "        self.env = env\n",
    "        self.dqn = dqn\n",
    "        self.target_dqn = copy.deepcopy(dqn)\n",
    "        self.optimizer = Optimizer(dqn.parameters(), lr=learning_rate)\n",
    "        self.epsilon_schedule = epsilon_schedule\n",
    "        self.replay_buffer = replay_buffer\n",
    "        self.discount_factor = discount_factor\n",
    "        self.target_update_rate = target_update_rate\n",
    "        self.batch_size = batch_size\n",
    "        self.min_buffer_size = min_buffer_size"
   ]
  },
  {
   "cell_type": "markdown",
   "metadata": {
    "slideshow": {
     "slide_type": "slide"
    }
   },
   "source": [
    "### `act`"
   ]
  },
  {
   "cell_type": "markdown",
   "metadata": {
    "slideshow": {
     "slide_type": "fragment"
    }
   },
   "source": [
    "The `act` function returns an action given a state and an epsilon $\\epsilon$ selected $\\epsilon$-greedily."
   ]
  },
  {
   "cell_type": "code",
   "execution_count": 11,
   "metadata": {
    "slideshow": {
     "slide_type": "fragment"
    }
   },
   "outputs": [],
   "source": [
    "def act(self, state, epsilon):\n",
    "    if random.random() > epsilon:\n",
    "        state = torch.FloatTensor(state)\n",
    "        q_values = self.dqn(state)\n",
    "        action = q_values.argmax().item()\n",
    "    else:\n",
    "        action = self.env.action_space.sample()\n",
    "    return action"
   ]
  },
  {
   "cell_type": "markdown",
   "metadata": {
    "slideshow": {
     "slide_type": "slide"
    }
   },
   "source": [
    "### `_compute_loss`"
   ]
  },
  {
   "cell_type": "markdown",
   "metadata": {
    "slideshow": {
     "slide_type": "fragment"
    }
   },
   "source": [
    "To compute the loss of a batch of experience, we define `_compute_loss()` function. To adhere to the DeepMind paper example, we should use the Huber Loss (also known as the Smooth L1 Loss), but using a MSE loss seems to work fine in this environment."
   ]
  },
  {
   "cell_type": "code",
   "execution_count": 12,
   "metadata": {
    "slideshow": {
     "slide_type": "slide"
    }
   },
   "outputs": [],
   "source": [
    "def _compute_loss(self):\n",
    "    state, action, reward, next_state, done = self.replay_buffer.sample(self.batch_size)\n",
    "\n",
    "    state      = torch.FloatTensor(state)\n",
    "    next_state = torch.FloatTensor(next_state)\n",
    "    action     = torch.LongTensor(action)\n",
    "    reward     = torch.FloatTensor(reward)\n",
    "    done       = torch.FloatTensor(done)\n",
    "\n",
    "    q_values = self.dqn(state)\n",
    "    q_value  = q_values.gather(1, action.unsqueeze(1)).squeeze(1)\n",
    "\n",
    "    next_q_values = self.target_dqn(next_state)\n",
    "    next_q_value  = next_q_values.max(1)[0]\n",
    "    target = reward + self.discount_factor * next_q_value * (1 - done)\n",
    "\n",
    "    loss = (q_value - target.detach()).pow(2).mean()\n",
    "\n",
    "    return loss"
   ]
  },
  {
   "cell_type": "markdown",
   "metadata": {
    "slideshow": {
     "slide_type": "slide"
    }
   },
   "source": [
    "### `_update_parameters`"
   ]
  },
  {
   "cell_type": "markdown",
   "metadata": {
    "slideshow": {
     "slide_type": "fragment"
    }
   },
   "source": [
    "The `_update_parameters` function updates the parameters of the DQN with the loss calculated in `_compute_loss`."
   ]
  },
  {
   "cell_type": "code",
   "execution_count": 13,
   "metadata": {
    "slideshow": {
     "slide_type": "fragment"
    }
   },
   "outputs": [],
   "source": [
    "def _update_parameters(self, loss):\n",
    "    self.optimizer.zero_grad()\n",
    "    loss.backward()\n",
    "    self.optimizer.step()"
   ]
  },
  {
   "cell_type": "markdown",
   "metadata": {
    "slideshow": {
     "slide_type": "slide"
    }
   },
   "source": [
    "### `_plot`"
   ]
  },
  {
   "cell_type": "markdown",
   "metadata": {
    "slideshow": {
     "slide_type": "fragment"
    }
   },
   "source": [
    "The `_plot` function simply plots the episode reward, losses, and epsilons using `matplotlib`."
   ]
  },
  {
   "cell_type": "code",
   "execution_count": 14,
   "metadata": {
    "slideshow": {
     "slide_type": "fragment"
    }
   },
   "outputs": [],
   "source": [
    "def _plot(self, frame_idx, rewards, losses, epsilons):\n",
    "    clear_output(True)\n",
    "    plt.figure(figsize=(20,5))\n",
    "    plt.subplot(131)\n",
    "    plt.title('Episodic Reward')\n",
    "    plt.plot(rewards)\n",
    "    plt.subplot(132)\n",
    "    plt.title('TD Loss')\n",
    "    plt.plot(losses)\n",
    "    plt.subplot(133)\n",
    "    plt.title('Epsilon')\n",
    "    plt.plot(epsilons)\n",
    "    plt.tight_layout()\n",
    "    plt.show()"
   ]
  },
  {
   "cell_type": "markdown",
   "metadata": {
    "slideshow": {
     "slide_type": "slide"
    }
   },
   "source": [
    "### `train`"
   ]
  },
  {
   "cell_type": "markdown",
   "metadata": {
    "slideshow": {
     "slide_type": "fragment"
    }
   },
   "source": [
    "The `train` function is function that uses all the functions defined above. At every timestep, the agent:\n",
    "\n",
    " 1. Update the target DQN if needed\n",
    " 2. Choose an action with the DQN\n",
    " 3. Receive (state, reward, done, info) from the environment and adds it to the replay buffer\n",
    " 4. Sample a batch from the replay buffer\n",
    " 5. Calculate the loss from the batch\n",
    " 6. Update the parameters with the batch\n",
    " 7. If the episode is finished, reset environment."
   ]
  },
  {
   "cell_type": "code",
   "execution_count": 15,
   "metadata": {
    "slideshow": {
     "slide_type": "slide"
    }
   },
   "outputs": [],
   "source": [
    "def train(self, n_steps=10000):\n",
    "    all_rewards = []\n",
    "    losses = []\n",
    "    epsilons = []\n",
    "    episode_reward = 0\n",
    "\n",
    "    state = self.env.reset()\n",
    "    for frame_idx in range(1, n_steps + 1):\n",
    "\n",
    "        epsilon = self.epsilon_schedule(frame_idx)\n",
    "        epsilons.append(epsilon)\n",
    "        action = self.act(state, epsilon)\n",
    "        next_state, reward, done, _ = self.env.step(action)\n",
    "        self.replay_buffer.append(state, action, reward, next_state, done)\n",
    "\n",
    "        state = next_state\n",
    "        episode_reward += reward\n",
    "\n",
    "        if done:\n",
    "            state = self.env.reset()\n",
    "            all_rewards.append(episode_reward)\n",
    "            episode_reward = 0\n",
    "\n",
    "        if len(self.replay_buffer) >= self.min_buffer_size:\n",
    "            loss = self._compute_loss()\n",
    "            self._update_parameters(loss)\n",
    "            losses.append(loss.item())\n",
    "\n",
    "        if frame_idx % self.target_update_rate == 0:\n",
    "            self.target_dqn.load_state_dict(self.dqn.state_dict())\n",
    "\n",
    "        if frame_idx % 200 == 0:\n",
    "            self._plot(frame_idx, all_rewards, losses, epsilons)"
   ]
  },
  {
   "cell_type": "markdown",
   "metadata": {
    "slideshow": {
     "slide_type": "slide"
    }
   },
   "source": [
    "### `play`"
   ]
  },
  {
   "cell_type": "markdown",
   "metadata": {
    "slideshow": {
     "slide_type": "fragment"
    }
   },
   "source": [
    "In the `play` function, we run the episode once with $\\epsilon = 0$ (i.e. greedy)."
   ]
  },
  {
   "cell_type": "code",
   "execution_count": 16,
   "metadata": {
    "slideshow": {
     "slide_type": "fragment"
    }
   },
   "outputs": [],
   "source": [
    "def play(self, render=True):\n",
    "    done = False\n",
    "    state = self.env.reset()\n",
    "    total_reward = 0\n",
    "    while not done:\n",
    "        action = self.act(state, epsilon=0)\n",
    "        next_state, reward, done, _ = self.env.step(action)\n",
    "        if render:\n",
    "            self.env.render()\n",
    "        total_reward += reward\n",
    "        state = next_state\n",
    "\n",
    "    return total_reward"
   ]
  },
  {
   "cell_type": "markdown",
   "metadata": {
    "slideshow": {
     "slide_type": "slide"
    }
   },
   "source": [
    "Let's add all these functions the `DQNAgent` to see how our implementation performs in `CartPole`."
   ]
  },
  {
   "cell_type": "code",
   "execution_count": 17,
   "metadata": {
    "slideshow": {
     "slide_type": "fragment"
    }
   },
   "outputs": [],
   "source": [
    "DQNAgent.act = act\n",
    "DQNAgent._compute_loss = _compute_loss\n",
    "DQNAgent._update_parameters = _update_parameters\n",
    "DQNAgent._plot = _plot\n",
    "DQNAgent.train = train\n",
    "DQNAgent.play = play"
   ]
  },
  {
   "cell_type": "markdown",
   "metadata": {
    "slideshow": {
     "slide_type": "slide"
    }
   },
   "source": [
    "## Result"
   ]
  },
  {
   "cell_type": "code",
   "execution_count": 18,
   "metadata": {
    "slideshow": {
     "slide_type": "fragment"
    }
   },
   "outputs": [],
   "source": [
    "def get_epsilon_schedule(start, final, decay):\n",
    "    return lambda step: final + (start - final) * np.exp(-1. * step / decay)\n",
    "\n",
    "epsilon_schedule = get_epsilon_schedule(1.0, 0.01, 1000)"
   ]
  },
  {
   "cell_type": "code",
   "execution_count": 19,
   "metadata": {
    "slideshow": {
     "slide_type": "fragment"
    }
   },
   "outputs": [],
   "source": [
    "dqn = DQN(env.observation_space.shape[0], env.action_space.n)\n",
    "if USE_CUDA:\n",
    "    dqn = dqn.cuda()\n",
    "Adam = optim.Adam\n",
    "replay_buffer = ReplayBuffer(1000)\n",
    "agent = DQNAgent(env, dqn, Adam, epsilon_schedule, replay_buffer)"
   ]
  },
  {
   "cell_type": "code",
   "execution_count": 20,
   "metadata": {
    "slideshow": {
     "slide_type": "slide"
    }
   },
   "outputs": [
    {
     "data": {
      "image/png": "[encoded data removed]",
      "text/plain": [
       "<Figure size 1440x360 with 3 Axes>"
      ]
     },
     "metadata": {},
     "output_type": "display_data"
    }
   ],
   "source": [
    "agent.train()"
   ]
  },
  {
   "cell_type": "code",
   "execution_count": 21,
   "metadata": {
    "slideshow": {
     "slide_type": "fragment"
    }
   },
   "outputs": [
    {
     "name": "stdout",
     "output_type": "stream",
     "text": [
      "Total Reward: 200.0\n"
     ]
    }
   ],
   "source": [
    "total_reward = agent.play()\n",
    "print('Total Reward: {}'.format(total_reward))"
   ]
  },
  {
   "cell_type": "code",
   "execution_count": 22,
   "metadata": {
    "slideshow": {
     "slide_type": "fragment"
    }
   },
   "outputs": [],
   "source": [
    "agent.env.close()"
   ]
  }
 ],
 "metadata": {
  "kernelspec": {
   "display_name": "Python 3",
   "language": "python",
   "name": "python3"
  },
  "language_info": {
   "codemirror_mode": {
    "name": "ipython",
    "version": 3
   },
   "file_extension": ".py",
   "mimetype": "text/x-python",
   "name": "python",
   "nbconvert_exporter": "python",
   "pygments_lexer": "ipython3",
   "version": "3.6.5"
  },
  "varInspector": {
   "cols": {
    "lenName": 16,
    "lenType": 16,
    "lenVar": 40
   },
   "kernels_config": {
    "python": {
     "delete_cmd_postfix": "",
     "delete_cmd_prefix": "del ",
     "library": "var_list.py",
     "varRefreshCmd": "print(var_dic_list())"
    },
    "r": {
     "delete_cmd_postfix": ") ",
     "delete_cmd_prefix": "rm(",
     "library": "var_list.r",
     "varRefreshCmd": "cat(var_dic_list()) "
    }
   },
   "types_to_exclude": [
    "module",
    "function",
    "builtin_function_or_method",
    "instance",
    "_Feature"
   ],
   "window_display": false
  }
 },
 "nbformat": 4,
 "nbformat_minor": 2
}
