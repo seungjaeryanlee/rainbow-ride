{
 "cells": [
  {
   "cell_type": "markdown",
   "metadata": {},
   "source": [
    "# Deep Q-Network (DQN)"
   ]
  },
  {
   "cell_type": "markdown",
   "metadata": {},
   "source": [
    "In this exercise, you will implement a Deep Q-Learning Network (DQN) agent that uses a Neural Network (NN) to estimate the action value (Q value) of a state. Deep Q-Learning Network was invented by Google DeepMind in 2013, and it became famous for achieving superhuman performance on 29 out of 49 games on *Atari 2600* games.\n",
    "\n",
    "The links to DQN papers are at the end in the **References** section."
   ]
  },
  {
   "cell_type": "markdown",
   "metadata": {},
   "source": [
    "## Prerequisites"
   ]
  },
  {
   "cell_type": "markdown",
   "metadata": {},
   "source": [
    "You are expected to have basic familiarity with Machine Learning, Deep Learning, and Reinforcement Learning, especially on following topics:\n",
    "\n",
    " * Neural Network\n",
    " * Q-Learning\n",
    " * (Optional) Convolutional Neural Network"
   ]
  },
  {
   "cell_type": "markdown",
   "metadata": {},
   "source": [
    "You are also expected to have basic familarity with PyTorch, especially on following modules:\n",
    "\n",
    " * `torch.nn`\n",
    " * `torch.optim`"
   ]
  },
  {
   "cell_type": "markdown",
   "metadata": {
    "heading_collapsed": true
   },
   "source": [
    "## Environment: CartPole"
   ]
  },
  {
   "cell_type": "markdown",
   "metadata": {
    "heading_collapsed": true,
    "hidden": true
   },
   "source": [
    "### OpenAI Gym"
   ]
  },
  {
   "cell_type": "markdown",
   "metadata": {
    "hidden": true
   },
   "source": [
    "First, let's get familiar with the environment we will use to train and validate our DQN agent on. We will use the **CartPole** environment from [OpenAI Gym](https://gym.openai.com). In the CartPole environment, the agent has two components: a cart and a pole."
   ]
  },
  {
   "cell_type": "markdown",
   "metadata": {
    "hidden": true
   },
   "source": [
    "At every timestep, the agent receives +1 reward unless the episode is terminated. The episode terminates if\n",
    "\n",
    " 1. the cart is too far left or right\n",
    " 2. the pole  is too far off from its upright position\n",
    " 3. 200 timesteps passed.\n",
    "\n",
    "Thus, the agent's goal is to maintain balance so that the pole stays upright. To maintain balance, the agent must move the cart left or right accordingly. "
   ]
  },
  {
   "cell_type": "markdown",
   "metadata": {
    "hidden": true
   },
   "source": [
    "![Cartpole](cartpole.gif)"
   ]
  },
  {
   "cell_type": "markdown",
   "metadata": {
    "hidden": true
   },
   "source": [
    "**State Space Dimensions**: 4\n",
    " * $x$: Location of the cart\n",
    " * $x'$: Speed of the cart\n",
    " * $\\theta$: Angle of the pole\n",
    " * $\\theta'$: Angular Speed of the pole"
   ]
  },
  {
   "cell_type": "markdown",
   "metadata": {
    "hidden": true
   },
   "source": [
    "**Action Space Size**: 2\n",
    " * Left\n",
    " * Right"
   ]
  },
  {
   "cell_type": "markdown",
   "metadata": {
    "hidden": true
   },
   "source": [
    "**Reward**: +1 for all state"
   ]
  },
  {
   "cell_type": "markdown",
   "metadata": {
    "hidden": true
   },
   "source": [
    "To understand the environment a bit better, let's render the environment with a random-action agent."
   ]
  },
  {
   "cell_type": "code",
   "execution_count": 1,
   "metadata": {
    "hidden": true
   },
   "outputs": [],
   "source": [
    "import gym"
   ]
  },
  {
   "cell_type": "markdown",
   "metadata": {
    "hidden": true
   },
   "source": [
    "To create an environment from OpenAI Gym, we use `gym.make()` command with appropriate environment name. To initialize the environment, we use `env.reset()` command. `env.reset()` returns the observation of the initial state."
   ]
  },
  {
   "cell_type": "code",
   "execution_count": 2,
   "metadata": {
    "hidden": true
   },
   "outputs": [
    {
     "name": "stdout",
     "output_type": "stream",
     "text": [
      "\u001b[33mWARN: gym.spaces.Box autodetected dtype as <class 'numpy.float32'>. Please provide explicit dtype.\u001b[0m\n",
      "[-0.01592946 -0.04300961 -0.03614567 -0.0124434 ]\n"
     ]
    }
   ],
   "source": [
    "env = gym.make('CartPole-v0')\n",
    "obs = env.reset()\n",
    "print(obs)"
   ]
  },
  {
   "cell_type": "markdown",
   "metadata": {
    "heading_collapsed": true,
    "hidden": true
   },
   "source": [
    "### Observation Space and Action Space"
   ]
  },
  {
   "cell_type": "markdown",
   "metadata": {
    "hidden": true
   },
   "source": [
    "All OpenAI Gym environment has an `observation_space` attribute and an `action_space` attribute. They help you understand more about the environment."
   ]
  },
  {
   "cell_type": "code",
   "execution_count": 3,
   "metadata": {
    "hidden": true
   },
   "outputs": [
    {
     "name": "stdout",
     "output_type": "stream",
     "text": [
      "Observation Space:  Box(4,)\n",
      "Action Space:  Discrete(2)\n"
     ]
    }
   ],
   "source": [
    "print('Observation Space: ', env.observation_space)\n",
    "print('Action Space: ', env.action_space)"
   ]
  },
  {
   "cell_type": "markdown",
   "metadata": {
    "hidden": true
   },
   "source": [
    "`Box()` and `Discrete()` are spaces defined in OpenAI Gym. `Box(4,)` means that the observation space has dimension of 4, whereas `Discrete(2)` means that the action space has two discrete values. You can retrieve the space dimensions or size with their attributes. The `Box()` space has a `.shape` attribute, and the `Discrete()` space has a `.n` attribute."
   ]
  },
  {
   "cell_type": "code",
   "execution_count": 4,
   "metadata": {
    "hidden": true
   },
   "outputs": [
    {
     "name": "stdout",
     "output_type": "stream",
     "text": [
      "Observation Space Shape:  (4,)\n",
      "Action Space Size:  2\n"
     ]
    }
   ],
   "source": [
    "print('Observation Space Shape: ', env.observation_space.shape)\n",
    "print('Action Space Size: ', env.action_space.n)"
   ]
  },
  {
   "cell_type": "markdown",
   "metadata": {
    "hidden": true
   },
   "source": [
    "The `Discrete()` space also has a `sample()` method. `env.action_space.sample()` returns a randomly selected action."
   ]
  },
  {
   "cell_type": "code",
   "execution_count": 5,
   "metadata": {
    "hidden": true
   },
   "outputs": [
    {
     "name": "stdout",
     "output_type": "stream",
     "text": [
      "0\n"
     ]
    }
   ],
   "source": [
    "action = env.action_space.sample()\n",
    "print(action)"
   ]
  },
  {
   "cell_type": "markdown",
   "metadata": {
    "heading_collapsed": true,
    "hidden": true
   },
   "source": [
    "### Perform an Action"
   ]
  },
  {
   "cell_type": "markdown",
   "metadata": {
    "hidden": true
   },
   "source": [
    "To perform an action, we use `env.step(action)`. The environment then returns `(obs, rew, done, info)`, where\n",
    " * `obs` is the observation of the state after the action\n",
    " * `rew` is the reward after the action\n",
    " * `done` is a boolean indicating if the episode has terminated\n",
    " * `info` is a dictionary containing other useful information about the environment"
   ]
  },
  {
   "cell_type": "code",
   "execution_count": 6,
   "metadata": {
    "hidden": true
   },
   "outputs": [
    {
     "name": "stdout",
     "output_type": "stream",
     "text": [
      "Observation:  [-0.01678966  0.15261157 -0.03639453 -0.31630802]\n",
      "Reward:  1.0\n",
      "Done:  False\n",
      "Info:  {}\n"
     ]
    }
   ],
   "source": [
    "action = env.action_space.sample()\n",
    "obs, rew, done, info = env.step(action)\n",
    "print('Observation: ', obs)\n",
    "print('Reward: ', rew)\n",
    "print('Done: ', done)\n",
    "print('Info: ', info)"
   ]
  },
  {
   "cell_type": "markdown",
   "metadata": {
    "hidden": true
   },
   "source": [
    "To render the environment, we use `env.render()`, and to close the rendered window, we use `env.close()`."
   ]
  },
  {
   "cell_type": "code",
   "execution_count": 7,
   "metadata": {
    "hidden": true
   },
   "outputs": [],
   "source": [
    "done = False\n",
    "while not done:\n",
    "    action = env.action_space.sample()\n",
    "    obs, rew, done, info = env.step(action)\n",
    "    env.render()\n",
    "env.close()"
   ]
  },
  {
   "cell_type": "markdown",
   "metadata": {},
   "source": [
    "## Naive DQN Agent"
   ]
  },
  {
   "cell_type": "markdown",
   "metadata": {},
   "source": [
    "In this section, we will implement a naive version of a Deep Q-Learning Network. The idea is simple: transform a tabular Q-Learning algorithm into a approximate Q-Learning algorithm by simply using a neural network to approximate the action value."
   ]
  },
  {
   "cell_type": "markdown",
   "metadata": {},
   "source": [
    "As a refresher, here is the tabular Q-Learning algorithm:"
   ]
  },
  {
   "cell_type": "markdown",
   "metadata": {},
   "source": [
    "$$ Q(s, a) := Q(s, a) + \\alpha \\big(r + \\gamma \\max_{a'} Q(s', a') - Q(s, a) \\big) $$"
   ]
  },
  {
   "cell_type": "markdown",
   "metadata": {
    "heading_collapsed": true
   },
   "source": [
    "### `NaiveDQNAgent` class"
   ]
  },
  {
   "cell_type": "markdown",
   "metadata": {
    "hidden": true
   },
   "source": [
    "In each subsection, we will implement parts of the `NaiveDQNAgent` class, defined below."
   ]
  },
  {
   "cell_type": "code",
   "execution_count": 8,
   "metadata": {
    "hidden": true
   },
   "outputs": [],
   "source": [
    "class NaiveDQNAgent:\n",
    "    \"\"\"\n",
    "    A reinforcement learning agent that uses DQN naively to estimate action\n",
    "    values.\n",
    "    \"\"\"\n",
    "    def __init__(self, env, dqn, discount_factor=0.99):\n",
    "        \"\"\"\n",
    "        Parameters\n",
    "        ----------\n",
    "        env\n",
    "            An OpenAI Gym environment.\n",
    "        dqn\n",
    "            An instance of Deep Q Network written in PyTorch, inheriting\n",
    "            nn.Module.\n",
    "        discount_factor : float\n",
    "            A float between 0 and 1 denoting the discount factor. A discount\n",
    "            factor of 0 indicates a myopic agent, and a discount factor of 1\n",
    "            indicates an agent that accounts all future rewards without\n",
    "            discount.\n",
    "        \"\"\"\n",
    "        self.env = env\n",
    "        self.dqn = dqn\n",
    "        self.discount_factor = discount_factor\n",
    "\n",
    "    def act(self, state, epsilon):\n",
    "        \"\"\"\n",
    "        Return an action with respect to the epsilon-greedy policy.\n",
    "\n",
    "        Parameters\n",
    "        ----------\n",
    "        state : list of float\n",
    "            The current state given by the environment.\n",
    "        epsilon : float\n",
    "            The possibility of selecting a random action.\n",
    "\n",
    "        Returns\n",
    "        -------\n",
    "        action : int\n",
    "            The action chosen by the agent.\n",
    "        \"\"\"\n",
    "        raise NotImplementedError\n",
    "\n",
    "    def train(self, n_steps=1000, show=True):\n",
    "        \"\"\"\n",
    "        Train the agent for specified number of steps.\n",
    "\n",
    "        Parameters\n",
    "        ----------\n",
    "        n_steps : int\n",
    "            Number of timesteps to train the agent for.\n",
    "        show : bool\n",
    "            If True, plots the episode rewards and losses on Jupyter Notebook.\n",
    "        \"\"\"\n",
    "        raise NotImplementedError\n",
    "\n",
    "    def play(self, show=True):\n",
    "        \"\"\"\n",
    "        Play an episode and return the total reward for the episode.\n",
    "\n",
    "        Parameters\n",
    "        ----------\n",
    "        show : bool\n",
    "            If true, render the environment.\n",
    "        \"\"\"\n",
    "        raise NotImplementedError"
   ]
  },
  {
   "cell_type": "markdown",
   "metadata": {
    "hidden": true
   },
   "source": [
    "You can add a function `MyFunction` to a class with the command `NaiveDQNAgent.MyFunction = MyFunction`."
   ]
  },
  {
   "cell_type": "markdown",
   "metadata": {
    "hidden": true
   },
   "source": [
    "<div class=\"alert alert-warning\">\n",
    "In general, it is not a good practice to write class functions outside the class. Consider this an exception for clarity throughout this Jupyter Notebook :)\n",
    "</div>"
   ]
  },
  {
   "cell_type": "markdown",
   "metadata": {},
   "source": [
    "### Neural Network"
   ]
  },
  {
   "cell_type": "markdown",
   "metadata": {},
   "source": [
    "Let's implement a neural network with PyTorch. We will use a simple neural network with few layers. The input will be the observation $s=(x, x', \\theta, \\theta')$, and the output will be the action values $Q(s, \\text{left})$ and $Q(s, \\text{right})$."
   ]
  },
  {
   "cell_type": "code",
   "execution_count": 9,
   "metadata": {},
   "outputs": [],
   "source": [
    "import torch\n",
    "import torch.nn as nn"
   ]
  },
  {
   "cell_type": "markdown",
   "metadata": {},
   "source": [
    "We create a `DQN` class that inherits `torch.nn.Module`. Let's define the layers in `DQN.__init__()` and define the forward propagation step in `DQN.forward()`."
   ]
  },
  {
   "cell_type": "code",
   "execution_count": 10,
   "metadata": {},
   "outputs": [],
   "source": [
    "class DQN(nn.Module):\n",
    "\n",
    "    def __init__(self, input_dims, output_dims):\n",
    "        super().__init__()\n",
    "        self.layers = nn.Sequential(\n",
    "            nn.Linear(input_dims, 128),\n",
    "            nn.ReLU(),\n",
    "            nn.Linear(128, 128),\n",
    "            nn.ReLU(),\n",
    "            nn.Linear(128, output_dims)\n",
    "        )\n",
    "\n",
    "    def forward(self, x):\n",
    "        return self.layers(x)"
   ]
  },
  {
   "cell_type": "markdown",
   "metadata": {},
   "source": [
    "Let's make sure that the `DQN` is working properly by giving a zero vector as input. We will use the observation given by the environment as our state."
   ]
  },
  {
   "cell_type": "code",
   "execution_count": 11,
   "metadata": {},
   "outputs": [
    {
     "data": {
      "text/plain": [
       "tensor([ 0.0257,  0.1375])"
      ]
     },
     "execution_count": 11,
     "metadata": {},
     "output_type": "execute_result"
    }
   ],
   "source": [
    "dqn = DQN(env.observation_space.shape[0], env.action_space.n)\n",
    "dqn.forward(torch.zeros(4))"
   ]
  },
  {
   "cell_type": "markdown",
   "metadata": {
    "heading_collapsed": true
   },
   "source": [
    "### Choose Action"
   ]
  },
  {
   "cell_type": "markdown",
   "metadata": {
    "hidden": true
   },
   "source": [
    "We first define `NaiveDQNAgent.act()` that chooses an action using the DQN with an epsilon-greedy policy."
   ]
  },
  {
   "cell_type": "code",
   "execution_count": 12,
   "metadata": {
    "hidden": true
   },
   "outputs": [],
   "source": [
    "import random"
   ]
  },
  {
   "cell_type": "code",
   "execution_count": 13,
   "metadata": {
    "hidden": true
   },
   "outputs": [],
   "source": [
    "def act(self, state, epsilon):\n",
    "    \"\"\"\n",
    "    Return an action with respect to the epsilon-greedy policy.\n",
    "\n",
    "    Parameters\n",
    "    ----------\n",
    "    state : list of float\n",
    "        The current state given by the environment.\n",
    "    epsilon : float\n",
    "        The possibility of selecting a random action.\n",
    "\n",
    "    Returns\n",
    "    -------\n",
    "    action : int\n",
    "        The action chosen by the agent.\n",
    "    \"\"\"\n",
    "    if random.random() > epsilon:\n",
    "        state = torch.FloatTensor(state)\n",
    "        q_values = self.dqn.forward(state)\n",
    "        action = int(q_values.argmax())\n",
    "    else:\n",
    "        action = self.env.action_space.sample()\n",
    "\n",
    "    return action"
   ]
  },
  {
   "cell_type": "code",
   "execution_count": 14,
   "metadata": {
    "hidden": true
   },
   "outputs": [],
   "source": [
    "NaiveDQNAgent.act = act"
   ]
  },
  {
   "cell_type": "markdown",
   "metadata": {
    "hidden": true
   },
   "source": [
    "Let's test the `act()` function. We use the the initial observation from `env.reset()` as our state."
   ]
  },
  {
   "cell_type": "code",
   "execution_count": 15,
   "metadata": {
    "hidden": true
   },
   "outputs": [
    {
     "name": "stdout",
     "output_type": "stream",
     "text": [
      "\u001b[33mWARN: gym.spaces.Box autodetected dtype as <class 'numpy.float32'>. Please provide explicit dtype.\u001b[0m\n"
     ]
    }
   ],
   "source": [
    "env = gym.make('CartPole-v0')\n",
    "dqn = DQN(env.observation_space.shape[0], env.action_space.n)\n",
    "agent = NaiveDQNAgent(env, dqn)"
   ]
  },
  {
   "cell_type": "code",
   "execution_count": 16,
   "metadata": {
    "hidden": true
   },
   "outputs": [
    {
     "name": "stdout",
     "output_type": "stream",
     "text": [
      "Greedy action:  1\n",
      "Random action:  0\n"
     ]
    }
   ],
   "source": [
    "state = env.reset()\n",
    "greedy_action = agent.act(state, epsilon=0)\n",
    "random_action = agent.act(state, epsilon=1)\n",
    "print('Greedy action: ', greedy_action)\n",
    "print('Random action: ', random_action)"
   ]
  },
  {
   "cell_type": "markdown",
   "metadata": {
    "hidden": true
   },
   "source": [
    "Awesome! We now have an agent that can use DQN to choose an action."
   ]
  },
  {
   "cell_type": "markdown",
   "metadata": {
    "heading_collapsed": true
   },
   "source": [
    "### Loss Function"
   ]
  },
  {
   "cell_type": "markdown",
   "metadata": {
    "hidden": true
   },
   "source": [
    "In Supervised Learning, every data in the training set had a **label** $y$ that represented the correct answer. Therefore, we could calculate the loss by comparing the prediction $\\hat{y}$ and $y$:"
   ]
  },
  {
   "cell_type": "markdown",
   "metadata": {
    "hidden": true
   },
   "source": [
    "$$ \\text{MSE} = (\\hat{y} - y)^2 $$"
   ]
  },
  {
   "cell_type": "markdown",
   "metadata": {
    "hidden": true
   },
   "source": [
    "In Reinforcement Learning, the agent does not know the correct action value $Q(s, a)$. Thus, in Q-Learning, we use the bootstrapped **target** instead."
   ]
  },
  {
   "cell_type": "markdown",
   "metadata": {
    "hidden": true
   },
   "source": [
    "$$ \\text{MSE} = (r + \\gamma\\max_{a'}(Q(s', a') - Q(s, a))^2 $$"
   ]
  },
  {
   "cell_type": "code",
   "execution_count": 17,
   "metadata": {
    "hidden": true
   },
   "outputs": [],
   "source": [
    "def _compute_loss(self, state, action, reward, next_state, done):\n",
    "    \"\"\"\n",
    "    Compute the MSE loss given a transition (s, a, r, s').\n",
    "    \n",
    "    Parameters\n",
    "    ----------\n",
    "    state : list of float\n",
    "        The current state s given by the environment.\n",
    "    action : int\n",
    "        Action a chosen by the agent.\n",
    "    reward : float\n",
    "        Reward given by the environment for given state s and action a.\n",
    "    next_state : list of float\n",
    "        The resulting state s' after taking action a on state s.\n",
    "    done: bool\n",
    "        True if s' is a terminal state. False otherwise.\n",
    "\n",
    "    Returns\n",
    "    -------\n",
    "    loss : torch.tensor\n",
    "        The MSE loss of the DQN.\n",
    "    \"\"\"\n",
    "    state = torch.FloatTensor(state)\n",
    "    q_values = self.dqn(state)\n",
    "    q_value = q_values[action]\n",
    "\n",
    "    next_state = torch.FloatTensor(next_state)\n",
    "    next_q_values = self.dqn(next_state)\n",
    "    next_q_value = next_q_values.max()\n",
    "\n",
    "    if done:\n",
    "        target = reward\n",
    "    else:\n",
    "        target = reward + self.discount_factor * next_q_value\n",
    "\n",
    "    loss = (q_value - target).pow(2).mean()\n",
    "\n",
    "    return loss"
   ]
  },
  {
   "cell_type": "code",
   "execution_count": 18,
   "metadata": {
    "hidden": true
   },
   "outputs": [],
   "source": [
    "NaiveDQNAgent._compute_loss = _compute_loss"
   ]
  },
  {
   "cell_type": "code",
   "execution_count": 19,
   "metadata": {
    "hidden": true
   },
   "outputs": [
    {
     "name": "stdout",
     "output_type": "stream",
     "text": [
      "\u001b[33mWARN: gym.spaces.Box autodetected dtype as <class 'numpy.float32'>. Please provide explicit dtype.\u001b[0m\n"
     ]
    }
   ],
   "source": [
    "env = gym.make('CartPole-v0')\n",
    "dqn = DQN(env.observation_space.shape[0], env.action_space.n)\n",
    "agent = NaiveDQNAgent(env, dqn)"
   ]
  },
  {
   "cell_type": "code",
   "execution_count": 20,
   "metadata": {
    "hidden": true
   },
   "outputs": [
    {
     "name": "stdout",
     "output_type": "stream",
     "text": [
      "MSE Loss:  tensor(1.0054)\n"
     ]
    }
   ],
   "source": [
    "env.reset()\n",
    "action = agent.act(state, epsilon=1)\n",
    "next_state, reward, done, _ = env.step(action)\n",
    "loss = agent._compute_loss(state, action, reward, next_state, done)\n",
    "print('MSE Loss: ', loss)"
   ]
  },
  {
   "cell_type": "markdown",
   "metadata": {
    "heading_collapsed": true
   },
   "source": [
    "### Optimizer"
   ]
  },
  {
   "cell_type": "markdown",
   "metadata": {
    "hidden": true
   },
   "source": [
    "`PyTorch` has multiple optimizers in `torch.optim` module."
   ]
  },
  {
   "cell_type": "code",
   "execution_count": 21,
   "metadata": {
    "hidden": true
   },
   "outputs": [],
   "source": [
    "import torch.optim as optim"
   ]
  },
  {
   "cell_type": "markdown",
   "metadata": {
    "hidden": true
   },
   "source": [
    "We will use the Adam optimizer `torch.optim.Adam()`. To create an optimizer, we call `torch.optim.Adam()` with the parameters of the neural network."
   ]
  },
  {
   "cell_type": "code",
   "execution_count": 22,
   "metadata": {
    "hidden": true
   },
   "outputs": [],
   "source": [
    "optimizer = optim.Adam(dqn.parameters())"
   ]
  },
  {
   "cell_type": "markdown",
   "metadata": {
    "hidden": true
   },
   "source": [
    "Calling `.backward()` on a tensor calculates the gradients. `optimizer.step()` uses the gradients to update the parameters of the network."
   ]
  },
  {
   "cell_type": "code",
   "execution_count": 23,
   "metadata": {
    "hidden": true
   },
   "outputs": [],
   "source": [
    "optimizer.zero_grad()\n",
    "loss.backward()\n",
    "optimizer.step()"
   ]
  },
  {
   "cell_type": "markdown",
   "metadata": {
    "heading_collapsed": true
   },
   "source": [
    "### Train Agent"
   ]
  },
  {
   "cell_type": "markdown",
   "metadata": {
    "hidden": true
   },
   "source": [
    "Training the model is simple: for every step, we compute the loss with `compute_loss` and perform Stochastic Gradient Descent (SGD) with `optimizer`."
   ]
  },
  {
   "cell_type": "markdown",
   "metadata": {
    "hidden": true
   },
   "source": [
    "To understand the agent's performance during training, we will use `matplotlib` to plot the episode reward and MSE loss while the agent is being trained."
   ]
  },
  {
   "cell_type": "code",
   "execution_count": 24,
   "metadata": {
    "hidden": true
   },
   "outputs": [],
   "source": [
    "from IPython.display import clear_output\n",
    "import matplotlib.pyplot as plt\n",
    "import numpy as np\n",
    "%matplotlib inline"
   ]
  },
  {
   "cell_type": "code",
   "execution_count": 25,
   "metadata": {
    "hidden": true
   },
   "outputs": [],
   "source": [
    "def _plot(self, step, rewards, losses):\n",
    "    \"\"\"\n",
    "    Plot the total episode rewards and losses per timestep.\n",
    "\n",
    "    Parameters\n",
    "    ----------\n",
    "    rewards : list of float\n",
    "        List of total rewards for each episode.\n",
    "    losses : list of float\n",
    "        List of losses for each timestep.\n",
    "    \"\"\"\n",
    "    clear_output(True)\n",
    "    plt.figure(figsize=(20, 5))\n",
    "    plt.subplot(131)\n",
    "    plt.title('Total Episode Reward')\n",
    "    plt.plot(rewards)\n",
    "    plt.subplot(132)\n",
    "    plt.title('MSE Loss')\n",
    "    plt.plot(losses)\n",
    "    plt.show()"
   ]
  },
  {
   "cell_type": "code",
   "execution_count": 26,
   "metadata": {
    "hidden": true
   },
   "outputs": [],
   "source": [
    "NaiveDQNAgent._plot = _plot"
   ]
  },
  {
   "cell_type": "code",
   "execution_count": 27,
   "metadata": {
    "hidden": true
   },
   "outputs": [],
   "source": [
    "def train(self, n_steps=1000, show=False):\n",
    "    \"\"\"\n",
    "    Train the agent for specified number of steps.\n",
    "    \n",
    "    Parameters\n",
    "    ----------\n",
    "    n_steps : int\n",
    "        Number of timesteps to train the agent for.\n",
    "    show : bool\n",
    "        If True, plots the episode rewards and losses on Jupyter Notebook.\n",
    "    \"\"\"\n",
    "    epsilon = 0.01\n",
    "    state = self.env.reset()\n",
    "    done = False\n",
    "    episode_rewards = []\n",
    "    episode_reward = 0\n",
    "    losses = []\n",
    "    optimizer = optim.Adam(self.dqn.parameters())\n",
    "    for step_i in range(n_steps):\n",
    "        action = self.act(state, epsilon)\n",
    "        next_state, reward, done, _  = self.env.step(action)\n",
    "        episode_reward += reward\n",
    "\n",
    "        optimizer.zero_grad()\n",
    "        loss = self._compute_loss(state, action, reward, next_state, done)\n",
    "        losses.append(loss)\n",
    "        loss.backward()\n",
    "        optimizer.step()\n",
    "\n",
    "        if done:\n",
    "            state = self.env.reset()\n",
    "            episode_rewards.append(episode_reward)\n",
    "            episode_reward = 0\n",
    "        else:\n",
    "            state = next_state\n",
    "            \n",
    "        if step_i % 200 == 0 and show:\n",
    "            self._plot(step_i, episode_rewards, losses)"
   ]
  },
  {
   "cell_type": "code",
   "execution_count": 28,
   "metadata": {
    "hidden": true
   },
   "outputs": [],
   "source": [
    "NaiveDQNAgent.train = train"
   ]
  },
  {
   "cell_type": "code",
   "execution_count": 29,
   "metadata": {
    "hidden": true
   },
   "outputs": [
    {
     "name": "stdout",
     "output_type": "stream",
     "text": [
      "\u001b[33mWARN: gym.spaces.Box autodetected dtype as <class 'numpy.float32'>. Please provide explicit dtype.\u001b[0m\n"
     ]
    }
   ],
   "source": [
    "env = gym.make('CartPole-v0')\n",
    "dqn = DQN(env.observation_space.shape[0], env.action_space.n)\n",
    "agent = NaiveDQNAgent(env, dqn)"
   ]
  },
  {
   "cell_type": "code",
   "execution_count": 30,
   "metadata": {
    "hidden": true
   },
   "outputs": [
    {
     "data": {
      "image/png": "[encoded data removed]",
      "text/plain": [
       "<Figure size 1440x360 with 2 Axes>"
      ]
     },
     "metadata": {},
     "output_type": "display_data"
    }
   ],
   "source": [
    "agent.train(1000, show=True)"
   ]
  },
  {
   "cell_type": "markdown",
   "metadata": {
    "heading_collapsed": true
   },
   "source": [
    "### Play"
   ]
  },
  {
   "cell_type": "markdown",
   "metadata": {
    "hidden": true
   },
   "source": [
    "Let's see how good the trained agent is."
   ]
  },
  {
   "cell_type": "code",
   "execution_count": 31,
   "metadata": {
    "hidden": true
   },
   "outputs": [],
   "source": [
    "def play(self, show=True):\n",
    "    \"\"\"\n",
    "    Play an episode and return the total reward for the episode.\n",
    "    \n",
    "    Parameters\n",
    "    ----------\n",
    "    show : bool\n",
    "        If true, render the environment.\n",
    "    \"\"\"\n",
    "    total_reward = 0\n",
    "    state = self.env.reset()\n",
    "    done = False\n",
    "\n",
    "    while not done:\n",
    "        action = self.act(state, epsilon=0)\n",
    "        next_state, reward, done, _  = self.env.step(action)\n",
    "        if show:\n",
    "            self.env.render()\n",
    "        total_reward += reward\n",
    "        state = next_state\n",
    "    self.env.close()\n",
    "\n",
    "    return total_reward"
   ]
  },
  {
   "cell_type": "code",
   "execution_count": 32,
   "metadata": {
    "hidden": true
   },
   "outputs": [],
   "source": [
    "NaiveDQNAgent.play = play"
   ]
  },
  {
   "cell_type": "code",
   "execution_count": 33,
   "metadata": {
    "hidden": true
   },
   "outputs": [
    {
     "name": "stdout",
     "output_type": "stream",
     "text": [
      "\u001b[33mWARN: gym.spaces.Box autodetected dtype as <class 'numpy.float32'>. Please provide explicit dtype.\u001b[0m\n",
      "Total reward:  9.0\n"
     ]
    }
   ],
   "source": [
    "env = gym.make('CartPole-v0')\n",
    "dqn = DQN(env.observation_space.shape[0], env.action_space.n)\n",
    "agent = NaiveDQNAgent(env, dqn)\n",
    "\n",
    "print('Total reward: ', agent.play())"
   ]
  },
  {
   "cell_type": "markdown",
   "metadata": {
    "hidden": true
   },
   "source": [
    "The maximum total reward for each episode is $200.0$."
   ]
  },
  {
   "cell_type": "markdown",
   "metadata": {},
   "source": [
    "## Improvements"
   ]
  },
  {
   "cell_type": "markdown",
   "metadata": {},
   "source": [
    "Although the Naive DQN worked decently for `CartPole` environment, it performs poorly in more complex environments like *Atari 2600* due to its instability. To alleviate these problems, the following improvements are made to the naive DQN:\n",
    "\n",
    " * Experience Replay (Mnih, 2013)\n",
    " * Target Network (Mnih, 2015)\n",
    " * Huber Loss (Mnih, 2015)"
   ]
  },
  {
   "cell_type": "markdown",
   "metadata": {
    "heading_collapsed": true
   },
   "source": [
    "### `DQNAgent` class"
   ]
  },
  {
   "cell_type": "markdown",
   "metadata": {
    "hidden": true
   },
   "source": [
    "Adding the three modifications (Experience Replay, Target Network, Huber Loss) makes our DQN complete: we have implemented all the algorithms specified in the papers *Playing Atari with Deep Reinforcement Learning* (2013) and *Human-level control through deep reinforcement learning (2015)*.\n",
    "\n",
    "Let's implement the `DQNAgent` class that utilizes these modifications and test it on the `CartPole` environment to compare it with our `NaiveDQNAgent` implementation."
   ]
  },
  {
   "cell_type": "code",
   "execution_count": 34,
   "metadata": {
    "hidden": true
   },
   "outputs": [],
   "source": [
    "class DQNAgent(NaiveDQNAgent):\n",
    "    \"\"\"\n",
    "    A reinforcement learning agent that uses DQN naively to estimate action\n",
    "    values.\n",
    "    \"\"\"\n",
    "    def __init__(self, env, DQN,\n",
    "                 replay_buffer,\n",
    "                 discount_factor=0.99,\n",
    "                 min_buffer=100,\n",
    "                 target_update_rate=64):\n",
    "        \"\"\"\n",
    "        Parameters\n",
    "        ----------\n",
    "        env\n",
    "            An OpenAI Gym environment.\n",
    "        DQN\n",
    "            An Deep Q Network class written in PyTorch, inheriting\n",
    "            nn.Module.\n",
    "        replay_buffer\n",
    "            The replay buffer for Experience Replay.\n",
    "        discount_factor : float\n",
    "            A float between 0 and 1 denoting the discount factor. A discount\n",
    "            factor of 0 indicates a myopic agent, and a discount factor of 1\n",
    "            indicates an agent that accounts all future rewards without\n",
    "            discount.\n",
    "        min_buffer : int\n",
    "            Minimum replay buffer size before training the DQN.\n",
    "        target_update_rate : int\n",
    "            Frequency that the target network updates its parameters.\n",
    "        \"\"\"\n",
    "        self.env = env\n",
    "        input_dims = env.observation_space.shape[0]\n",
    "        output_dims = env.action_space.n\n",
    "        self.dqn = DQN(input_dims, output_dims)\n",
    "        self.target_dqn = DQN(input_dims, output_dims)\n",
    "        self.replay_buffer = replay_buffer\n",
    "\n",
    "        # Hyperparameters\n",
    "        self.discount_factor = discount_factor\n",
    "        self.min_buffer = min_buffer\n",
    "        self.target_update_rate = target_update_rate\n",
    "\n",
    "    def train(self, n_steps=1000, show=True):\n",
    "        \"\"\"\n",
    "        Train the agent for specified number of steps.\n",
    "\n",
    "        Parameters\n",
    "        ----------\n",
    "        n_steps : int\n",
    "            Number of timesteps to train the agent for.\n",
    "        show : bool\n",
    "            If True, plots the episode rewards and losses on Jupyter Notebook.\n",
    "        \"\"\"\n",
    "        raise NotImplementedError"
   ]
  },
  {
   "cell_type": "markdown",
   "metadata": {},
   "source": [
    "### Experience Replay"
   ]
  },
  {
   "cell_type": "markdown",
   "metadata": {},
   "source": [
    "In Q-Learning, the agent only looks at each experience once: after taking an action, it uses the experience $(s, a, r, s')$ once and forgets it immediately after the update. **Experience Replay** considers a different approach: the agent remembers the last $D$ experiences by saving them into a \"replay memory\". Also, instead of updating the parameters with the new experience, the agent updates its parameters by sampling a batch from the replay memory."
   ]
  },
  {
   "cell_type": "markdown",
   "metadata": {},
   "source": [
    "This approach has several advantages:\n",
    "\n",
    " 1. Every experience is used multiple times, so it is more efficient in terms of data.\n",
    " 2. Experiences are strongly correlated in the Naive DQN. Randomly sampling from replay memory breaks these correlations and thus reduces the variance of the updates."
   ]
  },
  {
   "cell_type": "markdown",
   "metadata": {},
   "source": [
    "First, let's create a `ReplayBuffer` class. The `ReplayBuffer` needs two functions:\n",
    "\n",
    " * `ReplayBuffer.add_sample()` that appends the new experience\n",
    " * `ReplayBuffer.sample()` that uniformly samples a batch of experiences from the buffer\n",
    "\n",
    "We will use Python's `deque` (pronounced \"deck\", not \"dequeue\")."
   ]
  },
  {
   "cell_type": "code",
   "execution_count": 35,
   "metadata": {},
   "outputs": [],
   "source": [
    "from collections import deque"
   ]
  },
  {
   "cell_type": "code",
   "execution_count": 36,
   "metadata": {},
   "outputs": [],
   "source": [
    "class ReplayBuffer:\n",
    "    def __init__(self, capacity):\n",
    "        self.buffer = deque(maxlen=capacity)\n",
    "\n",
    "    def add_sample(self, state, action, reward, next_state, done):\n",
    "        \"\"\"\n",
    "        Add given experience as sample.\n",
    "        \"\"\"\n",
    "        state      = np.expand_dims(state, 0)\n",
    "        next_state = np.expand_dims(next_state, 0)\n",
    "\n",
    "        self.buffer.append((state, action, reward, next_state, done))\n",
    "\n",
    "    def sample(self, batch_size):\n",
    "        \"\"\"\n",
    "        Return a batch of samples.\n",
    "        \"\"\"\n",
    "        state, action, reward, next_state, done = zip(*random.sample(self.buffer, batch_size))\n",
    "        return np.concatenate(state), action, reward, np.concatenate(next_state), done"
   ]
  },
  {
   "cell_type": "markdown",
   "metadata": {},
   "source": [
    "We should also change the `train()` function so that the agent updates its parameters with a batched sample of experiences instead of the last experience."
   ]
  },
  {
   "cell_type": "markdown",
   "metadata": {},
   "source": [
    "### Target Network"
   ]
  },
  {
   "cell_type": "markdown",
   "metadata": {},
   "source": [
    "**Target Network** $\\hat{Q}$ is a method of using a separate network to generate the target $r + \\gamma \\max_{a'} \\hat{Q}(s', a')$. The target network $\\hat{Q}$ is updated periodically by cloning the parameters of the original network $Q$."
   ]
  },
  {
   "cell_type": "code",
   "execution_count": 37,
   "metadata": {},
   "outputs": [],
   "source": [
    "def train(self, n_steps=1000, show=False):\n",
    "    \"\"\"\n",
    "    Train the agent for specified number of steps.\n",
    "    \n",
    "    Parameters\n",
    "    ----------\n",
    "    n_steps : int\n",
    "        Number of timesteps to train the agent for.\n",
    "    show : bool\n",
    "        If True, plots the episode rewards and losses on Jupyter Notebook.\n",
    "    \"\"\"\n",
    "    epsilon = 0.01\n",
    "    state = self.env.reset()\n",
    "    done = False\n",
    "    episode_rewards = []\n",
    "    episode_reward = 0\n",
    "    losses = []\n",
    "    optimizer = optim.Adam(self.dqn.parameters())\n",
    "    for step_i in range(n_steps):\n",
    "        action = self.act(state, epsilon)\n",
    "        next_state, reward, done, _  = self.env.step(action)\n",
    "        self.replay_buffer.add_sample(state, action, reward, next_state, done)\n",
    "        episode_reward += reward\n",
    "\n",
    "        optimizer.zero_grad()\n",
    "        \n",
    "        if len(self.replay_buffer) > self.min_buffer:\n",
    "            loss = self._compute_loss(state, action, reward, next_state, done)\n",
    "            losses.append(loss)\n",
    "            loss.backward()\n",
    "            optimizer.step()\n",
    "\n",
    "        if done:\n",
    "            state = self.env.reset()\n",
    "            episode_rewards.append(episode_reward)\n",
    "            episode_reward = 0\n",
    "        else:\n",
    "            state = next_state\n",
    "            \n",
    "        if step_i % 200 == 0 and show:\n",
    "            self._plot(step_i, episode_rewards, losses)"
   ]
  },
  {
   "cell_type": "markdown",
   "metadata": {},
   "source": [
    "### Reward Clipping and Huber Loss"
   ]
  },
  {
   "cell_type": "markdown",
   "metadata": {},
   "source": [
    "**Reward clipping** is a technique of clipping reward given by the environment. The paper suggests clipping reward to a [-1, 1] interval."
   ]
  },
  {
   "cell_type": "markdown",
   "metadata": {},
   "source": [
    "**Huber loss** is a simple transformation done to the error term $r + \\gamma \\max_a' \\hat{Q}(s', a') - Q(s, a)$. "
   ]
  },
  {
   "cell_type": "markdown",
   "metadata": {
    "heading_collapsed": true
   },
   "source": [
    "## Optional Environment: Pong"
   ]
  },
  {
   "cell_type": "markdown",
   "metadata": {
    "hidden": true
   },
   "source": [
    "In the DQN paper by Google DeepMind, they tested their agents with games from *Atari 2600*. We can also try training and evaluating the DQN agent's performance on *Atari 2600* games. Specifically, we will use *Pong* as our environment."
   ]
  },
  {
   "cell_type": "markdown",
   "metadata": {
    "hidden": true
   },
   "source": [
    "![](pong.jpg)"
   ]
  },
  {
   "cell_type": "markdown",
   "metadata": {
    "hidden": true
   },
   "source": [
    "**State Space Dimensions**: (210, 160, 3)\n",
    " * Height of 210 pixels\n",
    " * Width of 160 pixels\n",
    " * Pixels represented by RGB values: 3 numbers ranging from 0~255"
   ]
  },
  {
   "cell_type": "markdown",
   "metadata": {
    "hidden": true
   },
   "source": [
    "**Action Space Size**: 6"
   ]
  },
  {
   "cell_type": "code",
   "execution_count": 38,
   "metadata": {
    "hidden": true
   },
   "outputs": [
    {
     "name": "stdout",
     "output_type": "stream",
     "text": [
      "(210, 160, 3)\n"
     ]
    }
   ],
   "source": [
    "env = gym.make('PongNoFrameskip-v4')\n",
    "obs = env.reset()\n",
    "print(obs.shape)"
   ]
  },
  {
   "cell_type": "code",
   "execution_count": 39,
   "metadata": {
    "hidden": true
   },
   "outputs": [
    {
     "name": "stdout",
     "output_type": "stream",
     "text": [
      "6\n"
     ]
    }
   ],
   "source": [
    "print(env.action_space.n)"
   ]
  },
  {
   "cell_type": "markdown",
   "metadata": {
    "heading_collapsed": true
   },
   "source": [
    "## Optional Agent: CNN DQN"
   ]
  },
  {
   "cell_type": "markdown",
   "metadata": {
    "hidden": true
   },
   "source": [
    "Unlike CartPole, the observation we receive from the environment is an image of shape (210, 160, 3). Thus, we should use a Convolutional Neural Network (CNN) in the DQN."
   ]
  },
  {
   "cell_type": "code",
   "execution_count": 40,
   "metadata": {
    "hidden": true
   },
   "outputs": [],
   "source": [
    "class CNNDQN(nn.Module):\n",
    "    def __init__(self, input_dims, output_dims):\n",
    "        pass\n",
    "\n",
    "    def forward(self, x):\n",
    "        pass\n",
    "\n",
    "    def act(self, state, epsilon):\n",
    "        pass"
   ]
  },
  {
   "cell_type": "markdown",
   "metadata": {},
   "source": [
    "## References"
   ]
  },
  {
   "cell_type": "markdown",
   "metadata": {},
   "source": [
    "### Papers"
   ]
  },
  {
   "cell_type": "markdown",
   "metadata": {},
   "source": [
    " * [Playing Atari with Deep Reinforcement Learning (2013)](https://arxiv.org/pdf/1312.5602.pdf)\n",
    " * [Human-level control through deep reinforcement learning (2015)](https://web.stanford.edu/class/psych209/Readings/MnihEtAlHassibis15NatureControlDeepRL.pdf)"
   ]
  },
  {
   "cell_type": "markdown",
   "metadata": {},
   "source": [
    "### Code"
   ]
  },
  {
   "cell_type": "markdown",
   "metadata": {},
   "source": [
    " * [PyTorch: Reinforcement Learning (DQN) Tutorial](https://pytorch.org/tutorials/intermediate/reinforcement_q_learning.html)\n",
    " * [RL Adventure by higgsfield](https://github.com/higgsfield/RL-Adventure)"
   ]
  }
 ],
 "metadata": {
  "kernelspec": {
   "display_name": "Python 3",
   "language": "python",
   "name": "python3"
  },
  "language_info": {
   "codemirror_mode": {
    "name": "ipython",
    "version": 3
   },
   "file_extension": ".py",
   "mimetype": "text/x-python",
   "name": "python",
   "nbconvert_exporter": "python",
   "pygments_lexer": "ipython3",
   "version": "3.6.5"
  },
  "varInspector": {
   "cols": {
    "lenName": 16,
    "lenType": 16,
    "lenVar": 40
   },
   "kernels_config": {
    "python": {
     "delete_cmd_postfix": "",
     "delete_cmd_prefix": "del ",
     "library": "var_list.py",
     "varRefreshCmd": "print(var_dic_list())"
    },
    "r": {
     "delete_cmd_postfix": ") ",
     "delete_cmd_prefix": "rm(",
     "library": "var_list.r",
     "varRefreshCmd": "cat(var_dic_list()) "
    }
   },
   "position": {
    "height": "493px",
    "left": "1835px",
    "right": "20px",
    "top": "115px",
    "width": "576px"
   },
   "types_to_exclude": [
    "module",
    "function",
    "builtin_function_or_method",
    "instance",
    "_Feature"
   ],
   "window_display": false
  }
 },
 "nbformat": 4,
 "nbformat_minor": 2
}
